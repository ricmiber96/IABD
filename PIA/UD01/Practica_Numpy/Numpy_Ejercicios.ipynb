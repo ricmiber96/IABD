{
  "cells": [
    {
      "cell_type": "markdown",
      "metadata": {
        "id": "LXgzv1V5lPXi"
      },
      "source": [
        "# Ejercicios NumPy"
      ]
    },
    {
      "cell_type": "markdown",
      "metadata": {
        "id": "ADfp2pApl4BF"
      },
      "source": [
        "---\n",
        "## Para empezar..."
      ]
    },
    {
      "cell_type": "markdown",
      "metadata": {
        "id": "KXZZO1zol8Qo"
      },
      "source": [
        "Antes de empezar a trabajar de verdad, tendrás que importar la librería de NumPy:"
      ]
    },
    {
      "cell_type": "code",
      "execution_count": 1,
      "metadata": {
        "id": "KZOgslZVl9OD"
      },
      "outputs": [],
      "source": [
        "import numpy as np"
      ]
    },
    {
      "cell_type": "markdown",
      "metadata": {
        "id": "NK3e4TpmmBfN"
      },
      "source": [
        "---\n",
        "## Ejercicio 1"
      ]
    },
    {
      "cell_type": "markdown",
      "metadata": {
        "id": "YNcdlYDjmCBY"
      },
      "source": [
        "Crea una array bidimensional, de tamaño 10x10, con valores de tipo float32 aleatorios entre 0 y 10, redondeados a 2 decimales. Luego, muestra las dimensiones, el tamaño y la forma que tiene mediante las propiedades correspondientes. Finalmente, calcula la suma de todos los valores, la media, obtén el valor máximo y el mínimo."
      ]
    },
    {
      "cell_type": "code",
      "execution_count": 2,
      "metadata": {
        "id": "kB77aVDhmCN2"
      },
      "outputs": [
        {
          "name": "stdout",
          "output_type": "stream",
          "text": [
            "[[4.22 2.29 6.24 3.5  7.4  3.18 4.23 4.41 4.9  2.04]\n",
            " [6.14 8.15 0.91 1.29 0.01 6.77 7.63 4.36 6.59 7.56]\n",
            " [0.45 0.19 2.04 8.72 0.31 6.22 8.49 8.15 2.14 0.24]\n",
            " [6.32 7.82 6.08 6.5  7.85 5.67 8.99 7.86 6.2  8.29]\n",
            " [2.3  5.19 0.73 4.9  3.88 4.03 3.98 9.29 7.26 6.44]\n",
            " [4.25 1.37 3.76 7.69 0.67 6.85 2.32 7.26 0.26 9.71]\n",
            " [6.44 7.17 7.23 4.04 6.2  5.19 9.82 2.52 7.2  9.65]\n",
            " [4.11 7.45 6.73 2.68 5.53 0.08 8.57 6.94 4.81 9.68]\n",
            " [2.91 2.28 3.76 6.75 3.83 8.47 6.4  3.01 8.44 1.71]\n",
            " [9.37 0.33 7.24 3.81 9.73 9.75 8.23 5.21 8.46 3.08]]\n",
            "Dimensiones: 2\n",
            "Tamaño: 100\n",
            "Forma: (10, 10)\n",
            "Suma de total de valores: 527.300048828125\n",
            "La media de valores: 5.273000717163086\n",
            "Valor maximo: 9.818349838256836\n",
            "Valor minimo: 0.0107754897326231\n"
          ]
        }
      ],
      "source": [
        "#SOLUCION 1\n",
        "#array_one = np.array(np.full((10,10),[np.random.uniform(low=0, high=10)]),dtype=np.float32)\n",
        "#print(array_one)\n",
        "#SOLUCION 2\n",
        "array_one = (np.random.rand(10,10)*10).astype(np.float32)\n",
        "array_round = np.round(array_one,decimals=2)\n",
        "print(array_round)\n",
        "print(f'Dimensiones: {array_one.ndim}')\n",
        "print(f'Tamaño: {array_one.size}')\n",
        "print(f'Forma: {array_one.shape}')\n",
        "print(f'Suma de total de valores: {array_round.sum()}')\n",
        "print(f'La media de valores: {np.average(array_round)}')\n",
        "print(f'Valor maximo: {array_one.max()}')\n",
        "print(f'Valor minimo: {array_one.min()}')\n"
      ]
    },
    {
      "cell_type": "markdown",
      "metadata": {
        "id": "dWM-6b0lnBbZ"
      },
      "source": [
        "---\n",
        "## Ejercicio 2"
      ]
    },
    {
      "cell_type": "markdown",
      "metadata": {
        "id": "oowvRvyrnCMy"
      },
      "source": [
        "Crea un array de una dimensión de tipo int8. En una de las posiciones pon el valor 1000. ¿Qué ocurre y porqué?"
      ]
    },
    {
      "cell_type": "code",
      "execution_count": 3,
      "metadata": {
        "id": "8l_eEmAvnCcL"
      },
      "outputs": [
        {
          "ename": "OverflowError",
          "evalue": "Python integer 1000 out of bounds for int8",
          "output_type": "error",
          "traceback": [
            "\u001b[1;31m---------------------------------------------------------------------------\u001b[0m",
            "\u001b[1;31mOverflowError\u001b[0m                             Traceback (most recent call last)",
            "Cell \u001b[1;32mIn[3], line 1\u001b[0m\n\u001b[1;32m----> 1\u001b[0m array_two \u001b[38;5;241m=\u001b[39m \u001b[43mnp\u001b[49m\u001b[38;5;241;43m.\u001b[39;49m\u001b[43marray\u001b[49m\u001b[43m(\u001b[49m\u001b[43m[\u001b[49m\u001b[38;5;241;43m1\u001b[39;49m\u001b[43m,\u001b[49m\u001b[38;5;241;43m30\u001b[39;49m\u001b[43m,\u001b[49m\u001b[38;5;241;43m50\u001b[39;49m\u001b[43m,\u001b[49m\u001b[38;5;241;43m1000\u001b[39;49m\u001b[43m]\u001b[49m\u001b[43m,\u001b[49m\u001b[43mdtype\u001b[49m\u001b[38;5;241;43m=\u001b[39;49m\u001b[43mnp\u001b[49m\u001b[38;5;241;43m.\u001b[39;49m\u001b[43mint8\u001b[49m\u001b[43m)\u001b[49m\n\u001b[0;32m      2\u001b[0m \u001b[38;5;28mprint\u001b[39m(array_two)\n",
            "\u001b[1;31mOverflowError\u001b[0m: Python integer 1000 out of bounds for int8"
          ]
        }
      ],
      "source": [
        "array_two = np.array([1,30,50,1000],dtype=np.int8)\n",
        "print(array_two)"
      ]
    },
    {
      "cell_type": "markdown",
      "metadata": {
        "id": "qa8vDfFFYfFD"
      },
      "source": [
        "A continuación ejecuta alguna solución para este problema, ¿que harías?"
      ]
    },
    {
      "cell_type": "code",
      "execution_count": 39,
      "metadata": {
        "id": "m80bBipMYfFD"
      },
      "outputs": [
        {
          "name": "stdout",
          "output_type": "stream",
          "text": [
            "[   1   30   50 1000]\n"
          ]
        }
      ],
      "source": [
        "array_two = np.array([1,30,50,1000],dtype=np.int16)\n",
        "print(array_two)"
      ]
    },
    {
      "cell_type": "markdown",
      "metadata": {
        "id": "Z2Ymsre1nFp-"
      },
      "source": [
        "---\n",
        "## Ejercicio 3"
      ]
    },
    {
      "cell_type": "markdown",
      "metadata": {
        "id": "R2LvvpIUnGXJ"
      },
      "source": [
        "Crea un array con 20 valores entre los números 1 y 2. Estos valores deben estar distribuídos de manera equitativa:"
      ]
    },
    {
      "cell_type": "code",
      "execution_count": 71,
      "metadata": {
        "id": "ft9_dnY1nGhd"
      },
      "outputs": [
        {
          "name": "stdout",
          "output_type": "stream",
          "text": [
            "[1.   1.05 1.11 1.16 1.21 1.26 1.32 1.37 1.42 1.47 1.53 1.58 1.63 1.68\n",
            " 1.74 1.79 1.84 1.89 1.95 2.  ]\n"
          ]
        }
      ],
      "source": [
        "array_three = np.linspace(1, 2, 20)\n",
        "array_three = np.round(array_three, decimals=2)\n",
        "print(array_three)"
      ]
    },
    {
      "cell_type": "markdown",
      "metadata": {
        "id": "V_2YvVrUnGzO"
      },
      "source": [
        "---\n",
        "## Ejercicio 4"
      ]
    },
    {
      "cell_type": "markdown",
      "metadata": {
        "id": "veIUhoHdnHkC"
      },
      "source": [
        "Crea una matriz de forma 2x3 y muéstrala por pantalla. A continuación cambia su forma a una matriz 3x2. Luego obtén el resultado de multiplicar la primera por la segunda."
      ]
    },
    {
      "cell_type": "code",
      "execution_count": 5,
      "metadata": {
        "id": "4xmNj-genHwf"
      },
      "outputs": [
        {
          "name": "stdout",
          "output_type": "stream",
          "text": [
            "[[0 6 4]\n",
            " [9 7 5]]\n",
            "[[0 6]\n",
            " [4 9]\n",
            " [7 5]]\n",
            "2\n"
          ]
        }
      ],
      "source": [
        "array_fourth = (np.random.rand(2,3)*10).astype(np.int32)\n",
        "print(array_fourth)\n",
        "array_reshape = np.reshape(array_fourth,(3,2))\n",
        "print(array_fourth)\n",
        "array_result = np.dot(array_fourth, array_reshape)\n",
        "print(array_result)\n"
      ]
    },
    {
      "cell_type": "markdown",
      "metadata": {
        "id": "0OKve7lDoPMT"
      },
      "source": [
        "---\n",
        "## Ejercicio 5"
      ]
    },
    {
      "cell_type": "markdown",
      "metadata": {
        "id": "O-WK7p6soR8-"
      },
      "source": [
        "Crea un array de 6x6 con números enteros aleatorios entre 0 y 10, luego realiza las siguientes operaciones:\n",
        "* Extrae la submatriz formada por las dos primeras filas y las tres primeras columnas.\n",
        "* Selecciona todas las filas, pero solo las columnas desde la 2ª hasta la 4ª.\n",
        "* Reemplaza todos los elementos en las tres primeras filas y tres primeras columnas con el valor 0.\n",
        "* Selecciona los elementos de las dos últimas filas que son mayores a 3"
      ]
    },
    {
      "cell_type": "code",
      "execution_count": 77,
      "metadata": {
        "id": "A21uA-KdohAT"
      },
      "outputs": [
        {
          "name": "stdout",
          "output_type": "stream",
          "text": [
            "[[ 4  0 10  7  0  0]\n",
            " [ 8  6 10  7  3  9]\n",
            " [ 6  2  8  0  3  9]\n",
            " [ 4  5  8  2  8  9]\n",
            " [ 9  9  9  0  6  3]\n",
            " [ 5 10  9  5  2  0]]\n",
            "*********************\n",
            "[[ 4  0 10]\n",
            " [ 8  6 10]]\n",
            "*********************\n",
            "[[6 2 8 0 3 9]\n",
            " [4 5 8 2 8 9]\n",
            " [9 9 9 0 6 3]]\n",
            "*********************\n",
            "[[ 0  0  0  7  0  0]\n",
            " [ 0  0  0  7  3  9]\n",
            " [ 0  0  0  0  3  9]\n",
            " [ 4  5  8  2  8  9]\n",
            " [ 9  9  9  0  6  3]\n",
            " [ 5 10  9  5  2  0]]\n",
            "*********************\n",
            "[[ 9  9  9  0  6  3]\n",
            " [ 5 10  9  5  2  0]]\n",
            "Elementos mayores a 3: [ 9  9  9  6  5 10  9  5]\n"
          ]
        }
      ],
      "source": [
        "array_five = np.random.randint(0,11,(6,6))\n",
        "print(array_five)\n",
        "print('*********************')\n",
        "array_first_rows = array_five [:2,:3]\n",
        "print(array_first_rows)\n",
        "print('*********************')\n",
        "array_rows = array_five [2:5]\n",
        "print(array_rows)\n",
        "print('*********************')\n",
        "array_five [:3,:3] = 0\n",
        "print(array_five)\n",
        "print('*********************')\n",
        "array_last_rows = array_five[4:, :]\n",
        "print(array_last_rows)\n",
        "array_flatten = array_last_rows.flatten()\n",
        "array_max = array_flatten[array_flatten>3]\n",
        "print(f'Elementos mayores a 3: {array_max}')\n",
        "#num_array_max = np.max(array_max.flatten())\n",
        "#print(num_array_max)\n"
      ]
    },
    {
      "cell_type": "markdown",
      "metadata": {
        "id": "NcMs8O0xohx0"
      },
      "source": [
        "---\n",
        "## Ejercicio 6"
      ]
    },
    {
      "cell_type": "markdown",
      "metadata": {
        "id": "O2Aabc_Uoiqe"
      },
      "source": [
        "Crea un array de tamaño 8x8 con valores enteros aleatorios entre 1 y 100, realiza las siguientes operaciones utilizando máscaras booleanas:\n",
        "\n",
        "* Crea una máscara que identifique los elementos mayores a 50 y reemplázalos por el valor 100.\n",
        "* Crea una máscara que identifique los elementos menores o iguales a 20 y reemplázalos por el valor -1.\n",
        "* Cuenta cuántos elementos del array son pares y cuántos son impares.\n",
        "* Crea una nueva matriz donde se reemplacen los elementos pares por su mitad y los impares por su doble."
      ]
    },
    {
      "cell_type": "code",
      "execution_count": 108,
      "metadata": {
        "id": "8tSosR39oi2O"
      },
      "outputs": [
        {
          "name": "stdout",
          "output_type": "stream",
          "text": [
            "Cantidad num pares: 36\n",
            "Cantidad num impares 28\n",
            "[[30 42 20 42 84 34 50 44]\n",
            " [50 70 87 15 83 83  6  9]\n",
            " [63 60 41 31 49 48 48 73]\n",
            " [95 51 27 22 20 49 98  5]\n",
            " [70 83 12 75 21 36 53 70]\n",
            " [28 54  6 29 52 98 97 79]\n",
            " [21 53 16 97  3 86 85 73]\n",
            " [11 95 31 30 46 18 33 30]]\n",
            "Array resultado:\n",
            "[[ 15  21  10  21  42  17  25  22]\n",
            " [ 25  35 174  30 166 166   3  18]\n",
            " [126  30  82  62  98  24  24 146]\n",
            " [190 102  54  11  10  98  49  10]\n",
            " [ 35 166   6 150  42  18 106  35]\n",
            " [ 14  27   3  58  26  49 194 158]\n",
            " [ 42 106   8 194   6  43 170 146]\n",
            " [ 22 190  62  15  23   9  66  15]]\n"
          ]
        }
      ],
      "source": [
        "array_six = np.random.randint(1,100,(8,8))\n",
        "#print(array_six)\n",
        "#print('*********************')\n",
        "array_six[array_six>50] = 100\n",
        "#print(array_six)\n",
        "#print('*********************')\n",
        "array_six[array_six<=20] = -1\n",
        "#print(array_six)\n",
        "#print('*********************')\n",
        "num_par = 0\n",
        "num_impar = 0\n",
        "for row in array_six:\n",
        "    for num in row:\n",
        "        if num % 2 == 0:\n",
        "            num_par = num_par +1\n",
        "        else:\n",
        "            num_impar = num_impar +1\n",
        "\n",
        "print(f\"Cantidad num pares: {num_par}\")\n",
        "print(f\"Cantidad num impares {num_impar}\")\n",
        "\n",
        "array_new = np.random.randint(1,100,(8,8))\n",
        "print(array_new)\n",
        "for row in range(len(array_new)):\n",
        "    for col in range(len(array_new[row])):\n",
        "        if array_new[row][col] % 2 == 0:\n",
        "            array_new[row][col] = array_new[row][col] / 2\n",
        "        else:\n",
        "            array_new[row][col] = array_new[row][col] * 2\n",
        "print(\"Array resultado:\")\n",
        "print(array_new)"
      ]
    },
    {
      "cell_type": "markdown",
      "metadata": {
        "id": "-pvYqcfFolmh"
      },
      "source": [
        "---\n",
        "## Ejercicio 7"
      ]
    },
    {
      "cell_type": "markdown",
      "metadata": {
        "id": "sM9V2Ulnomoo"
      },
      "source": [
        "Sin utilizar las funciones predefinidas std ni mean de NumPy, programa dichas funcionalidades mediante 2 funciones diferentes. A esas funciones le pasarás como parámetro un array y devolverán el valor calculado. Haz un prueba con un array sencillo y muestra en pantalla los resultados. El cálculo de la media es sencillo, pero para la desviación estándar tendrás que investigar un poco."
      ]
    },
    {
      "cell_type": "code",
      "execution_count": 7,
      "metadata": {
        "id": "eeN5RTZQom_m"
      },
      "outputs": [
        {
          "name": "stdout",
          "output_type": "stream",
          "text": [
            "4.25\n"
          ]
        },
        {
          "data": {
            "text/plain": [
              "np.float64(4.25)"
            ]
          },
          "execution_count": 7,
          "metadata": {},
          "output_type": "execute_result"
        }
      ],
      "source": [
        "def array_media (array_media = []):\n",
        "    array_np = np.array(array_media)\n",
        "    media = array_np.sum() / len(array_np)\n",
        "    print(media)\n",
        "    return media\n",
        "array_example = []\n",
        "array_media(array_example)"
      ]
    },
    {
      "cell_type": "markdown",
      "metadata": {
        "id": "-QL_QTj-oncQ"
      },
      "source": [
        "---\n",
        "## Ejercicio 8"
      ]
    },
    {
      "cell_type": "markdown",
      "metadata": {
        "id": "jxdjFioFooZS"
      },
      "source": [
        "Dada una matriz, del tamaño que quieras, y con valores aleatorios entre 0 y 100; normaliza cada columna de la matriz utilizando la fórmula de normalización:\n",
        "\n",
        "![image.png](attachment:image.png)\n",
        "\n",
        "donde:\n",
        "* X es una columna de la matriz,\n",
        "* min(𝑋) es el valor mínimo de la columna,\n",
        "* max(𝑋) es el valor máximo de la columna."
      ]
    },
    {
      "cell_type": "code",
      "execution_count": null,
      "metadata": {
        "id": "3Z7iVaiooosD"
      },
      "outputs": [],
      "source": []
    }
  ],
  "metadata": {
    "colab": {
      "provenance": []
    },
    "kernelspec": {
      "display_name": "Python 3",
      "name": "python3"
    },
    "language_info": {
      "codemirror_mode": {
        "name": "ipython",
        "version": 3
      },
      "file_extension": ".py",
      "mimetype": "text/x-python",
      "name": "python",
      "nbconvert_exporter": "python",
      "pygments_lexer": "ipython3",
      "version": "3.12.7"
    }
  },
  "nbformat": 4,
  "nbformat_minor": 0
}
