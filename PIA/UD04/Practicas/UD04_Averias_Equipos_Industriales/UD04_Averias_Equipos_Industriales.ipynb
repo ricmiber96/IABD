{
 "cells": [
  {
   "cell_type": "markdown",
   "metadata": {},
   "source": []
  },
  {
   "cell_type": "code",
   "execution_count": 76,
   "metadata": {},
   "outputs": [],
   "source": [
    "# Importar librerías\n",
    "import numpy as np\n",
    "import pandas as pd\n",
    "import seaborn as sns\n",
    "import matplotlib.pyplot as plt\n",
    "from imblearn.over_sampling import SMOTE"
   ]
  },
  {
   "cell_type": "markdown",
   "metadata": {},
   "source": [
    "#### 1. Carga y estudio de la estructura del dataset"
   ]
  },
  {
   "cell_type": "code",
   "execution_count": 77,
   "metadata": {},
   "outputs": [],
   "source": [
    "# Cargamos el dataset \n",
    "data = pd.read_csv('equipment_anomaly_data.csv')"
   ]
  },
  {
   "cell_type": "code",
   "execution_count": 78,
   "metadata": {},
   "outputs": [],
   "source": [
    "# Mostramos cantidad total de registros y columnas\n",
    "data.shape\n",
    "\n",
    "# Guardamos la variable target\n",
    "target = 'faulty'"
   ]
  },
  {
   "cell_type": "code",
   "execution_count": 79,
   "metadata": {},
   "outputs": [
    {
     "name": "stdout",
     "output_type": "stream",
     "text": [
      "<class 'pandas.core.frame.DataFrame'>\n",
      "RangeIndex: 7672 entries, 0 to 7671\n",
      "Data columns (total 7 columns):\n",
      " #   Column       Non-Null Count  Dtype  \n",
      "---  ------       --------------  -----  \n",
      " 0   temperature  7672 non-null   float64\n",
      " 1   pressure     7672 non-null   float64\n",
      " 2   vibration    7672 non-null   float64\n",
      " 3   humidity     7672 non-null   float64\n",
      " 4   equipment    7672 non-null   object \n",
      " 5   location     7672 non-null   object \n",
      " 6   faulty       7672 non-null   float64\n",
      "dtypes: float64(5), object(2)\n",
      "memory usage: 419.7+ KB\n"
     ]
    }
   ],
   "source": [
    "# Mostramos el tipo de dato de cada columna\n",
    "data.info()"
   ]
  },
  {
   "cell_type": "code",
   "execution_count": 80,
   "metadata": {},
   "outputs": [
    {
     "data": {
      "text/html": [
       "<div>\n",
       "<style scoped>\n",
       "    .dataframe tbody tr th:only-of-type {\n",
       "        vertical-align: middle;\n",
       "    }\n",
       "\n",
       "    .dataframe tbody tr th {\n",
       "        vertical-align: top;\n",
       "    }\n",
       "\n",
       "    .dataframe thead th {\n",
       "        text-align: right;\n",
       "    }\n",
       "</style>\n",
       "<table border=\"1\" class=\"dataframe\">\n",
       "  <thead>\n",
       "    <tr style=\"text-align: right;\">\n",
       "      <th></th>\n",
       "      <th>temperature</th>\n",
       "      <th>pressure</th>\n",
       "      <th>vibration</th>\n",
       "      <th>humidity</th>\n",
       "      <th>faulty</th>\n",
       "    </tr>\n",
       "  </thead>\n",
       "  <tbody>\n",
       "    <tr>\n",
       "      <th>count</th>\n",
       "      <td>7672.000000</td>\n",
       "      <td>7672.000000</td>\n",
       "      <td>7672.000000</td>\n",
       "      <td>7672.000000</td>\n",
       "      <td>7672.000000</td>\n",
       "    </tr>\n",
       "    <tr>\n",
       "      <th>mean</th>\n",
       "      <td>70.922478</td>\n",
       "      <td>35.738048</td>\n",
       "      <td>1.611809</td>\n",
       "      <td>50.016574</td>\n",
       "      <td>0.099974</td>\n",
       "    </tr>\n",
       "    <tr>\n",
       "      <th>std</th>\n",
       "      <td>16.200059</td>\n",
       "      <td>10.381593</td>\n",
       "      <td>0.728560</td>\n",
       "      <td>11.841479</td>\n",
       "      <td>0.299985</td>\n",
       "    </tr>\n",
       "    <tr>\n",
       "      <th>min</th>\n",
       "      <td>10.269385</td>\n",
       "      <td>3.620798</td>\n",
       "      <td>-0.428188</td>\n",
       "      <td>10.215077</td>\n",
       "      <td>0.000000</td>\n",
       "    </tr>\n",
       "    <tr>\n",
       "      <th>25%</th>\n",
       "      <td>62.777057</td>\n",
       "      <td>29.485682</td>\n",
       "      <td>1.170906</td>\n",
       "      <td>42.612817</td>\n",
       "      <td>0.000000</td>\n",
       "    </tr>\n",
       "    <tr>\n",
       "      <th>50%</th>\n",
       "      <td>70.156900</td>\n",
       "      <td>35.227544</td>\n",
       "      <td>1.533113</td>\n",
       "      <td>50.024744</td>\n",
       "      <td>0.000000</td>\n",
       "    </tr>\n",
       "    <tr>\n",
       "      <th>75%</th>\n",
       "      <td>77.568387</td>\n",
       "      <td>41.159913</td>\n",
       "      <td>1.924700</td>\n",
       "      <td>57.340513</td>\n",
       "      <td>0.000000</td>\n",
       "    </tr>\n",
       "    <tr>\n",
       "      <th>max</th>\n",
       "      <td>149.690420</td>\n",
       "      <td>79.887734</td>\n",
       "      <td>4.990537</td>\n",
       "      <td>89.984718</td>\n",
       "      <td>1.000000</td>\n",
       "    </tr>\n",
       "  </tbody>\n",
       "</table>\n",
       "</div>"
      ],
      "text/plain": [
       "       temperature     pressure    vibration     humidity       faulty\n",
       "count  7672.000000  7672.000000  7672.000000  7672.000000  7672.000000\n",
       "mean     70.922478    35.738048     1.611809    50.016574     0.099974\n",
       "std      16.200059    10.381593     0.728560    11.841479     0.299985\n",
       "min      10.269385     3.620798    -0.428188    10.215077     0.000000\n",
       "25%      62.777057    29.485682     1.170906    42.612817     0.000000\n",
       "50%      70.156900    35.227544     1.533113    50.024744     0.000000\n",
       "75%      77.568387    41.159913     1.924700    57.340513     0.000000\n",
       "max     149.690420    79.887734     4.990537    89.984718     1.000000"
      ]
     },
     "execution_count": 80,
     "metadata": {},
     "output_type": "execute_result"
    }
   ],
   "source": [
    "# Decribimos las columnas numericas\n",
    "data.describe()"
   ]
  },
  {
   "cell_type": "code",
   "execution_count": 81,
   "metadata": {},
   "outputs": [
    {
     "data": {
      "text/html": [
       "<div>\n",
       "<style scoped>\n",
       "    .dataframe tbody tr th:only-of-type {\n",
       "        vertical-align: middle;\n",
       "    }\n",
       "\n",
       "    .dataframe tbody tr th {\n",
       "        vertical-align: top;\n",
       "    }\n",
       "\n",
       "    .dataframe thead th {\n",
       "        text-align: right;\n",
       "    }\n",
       "</style>\n",
       "<table border=\"1\" class=\"dataframe\">\n",
       "  <thead>\n",
       "    <tr style=\"text-align: right;\">\n",
       "      <th></th>\n",
       "      <th>temperature</th>\n",
       "      <th>pressure</th>\n",
       "      <th>vibration</th>\n",
       "      <th>humidity</th>\n",
       "      <th>equipment</th>\n",
       "      <th>location</th>\n",
       "      <th>faulty</th>\n",
       "    </tr>\n",
       "  </thead>\n",
       "  <tbody>\n",
       "    <tr>\n",
       "      <th>0</th>\n",
       "      <td>58.180180</td>\n",
       "      <td>25.029278</td>\n",
       "      <td>0.606516</td>\n",
       "      <td>45.694907</td>\n",
       "      <td>Turbine</td>\n",
       "      <td>Atlanta</td>\n",
       "      <td>0.0</td>\n",
       "    </tr>\n",
       "    <tr>\n",
       "      <th>1</th>\n",
       "      <td>75.740712</td>\n",
       "      <td>22.954018</td>\n",
       "      <td>2.338095</td>\n",
       "      <td>41.867407</td>\n",
       "      <td>Compressor</td>\n",
       "      <td>Chicago</td>\n",
       "      <td>0.0</td>\n",
       "    </tr>\n",
       "    <tr>\n",
       "      <th>2</th>\n",
       "      <td>71.358594</td>\n",
       "      <td>27.276830</td>\n",
       "      <td>1.389198</td>\n",
       "      <td>58.954409</td>\n",
       "      <td>Turbine</td>\n",
       "      <td>San Francisco</td>\n",
       "      <td>0.0</td>\n",
       "    </tr>\n",
       "    <tr>\n",
       "      <th>3</th>\n",
       "      <td>71.616985</td>\n",
       "      <td>32.242921</td>\n",
       "      <td>1.770690</td>\n",
       "      <td>40.565138</td>\n",
       "      <td>Pump</td>\n",
       "      <td>Atlanta</td>\n",
       "      <td>0.0</td>\n",
       "    </tr>\n",
       "    <tr>\n",
       "      <th>4</th>\n",
       "      <td>66.506832</td>\n",
       "      <td>45.197471</td>\n",
       "      <td>0.345398</td>\n",
       "      <td>43.253795</td>\n",
       "      <td>Pump</td>\n",
       "      <td>New York</td>\n",
       "      <td>0.0</td>\n",
       "    </tr>\n",
       "  </tbody>\n",
       "</table>\n",
       "</div>"
      ],
      "text/plain": [
       "   temperature   pressure  vibration   humidity   equipment       location  \\\n",
       "0    58.180180  25.029278   0.606516  45.694907     Turbine        Atlanta   \n",
       "1    75.740712  22.954018   2.338095  41.867407  Compressor        Chicago   \n",
       "2    71.358594  27.276830   1.389198  58.954409     Turbine  San Francisco   \n",
       "3    71.616985  32.242921   1.770690  40.565138        Pump        Atlanta   \n",
       "4    66.506832  45.197471   0.345398  43.253795        Pump       New York   \n",
       "\n",
       "   faulty  \n",
       "0     0.0  \n",
       "1     0.0  \n",
       "2     0.0  \n",
       "3     0.0  \n",
       "4     0.0  "
      ]
     },
     "execution_count": 81,
     "metadata": {},
     "output_type": "execute_result"
    }
   ],
   "source": [
    "# Mostramos los primeros y los ultimos 5 registros \n",
    "# Mostramos los primeros 5 registros\n",
    "data.head()"
   ]
  },
  {
   "cell_type": "code",
   "execution_count": 82,
   "metadata": {},
   "outputs": [
    {
     "data": {
      "text/html": [
       "<div>\n",
       "<style scoped>\n",
       "    .dataframe tbody tr th:only-of-type {\n",
       "        vertical-align: middle;\n",
       "    }\n",
       "\n",
       "    .dataframe tbody tr th {\n",
       "        vertical-align: top;\n",
       "    }\n",
       "\n",
       "    .dataframe thead th {\n",
       "        text-align: right;\n",
       "    }\n",
       "</style>\n",
       "<table border=\"1\" class=\"dataframe\">\n",
       "  <thead>\n",
       "    <tr style=\"text-align: right;\">\n",
       "      <th></th>\n",
       "      <th>temperature</th>\n",
       "      <th>pressure</th>\n",
       "      <th>vibration</th>\n",
       "      <th>humidity</th>\n",
       "      <th>equipment</th>\n",
       "      <th>location</th>\n",
       "      <th>faulty</th>\n",
       "    </tr>\n",
       "  </thead>\n",
       "  <tbody>\n",
       "    <tr>\n",
       "      <th>7667</th>\n",
       "      <td>65.711521</td>\n",
       "      <td>37.505934</td>\n",
       "      <td>2.030521</td>\n",
       "      <td>49.331471</td>\n",
       "      <td>Pump</td>\n",
       "      <td>New York</td>\n",
       "      <td>0.0</td>\n",
       "    </tr>\n",
       "    <tr>\n",
       "      <th>7668</th>\n",
       "      <td>63.005855</td>\n",
       "      <td>45.164234</td>\n",
       "      <td>1.264585</td>\n",
       "      <td>61.905390</td>\n",
       "      <td>Pump</td>\n",
       "      <td>New York</td>\n",
       "      <td>0.0</td>\n",
       "    </tr>\n",
       "    <tr>\n",
       "      <th>7669</th>\n",
       "      <td>72.029230</td>\n",
       "      <td>34.757896</td>\n",
       "      <td>1.709046</td>\n",
       "      <td>49.972917</td>\n",
       "      <td>Pump</td>\n",
       "      <td>Atlanta</td>\n",
       "      <td>0.0</td>\n",
       "    </tr>\n",
       "    <tr>\n",
       "      <th>7670</th>\n",
       "      <td>107.086485</td>\n",
       "      <td>23.754114</td>\n",
       "      <td>1.142522</td>\n",
       "      <td>23.967977</td>\n",
       "      <td>Compressor</td>\n",
       "      <td>Atlanta</td>\n",
       "      <td>1.0</td>\n",
       "    </tr>\n",
       "    <tr>\n",
       "      <th>7671</th>\n",
       "      <td>28.468054</td>\n",
       "      <td>66.588978</td>\n",
       "      <td>4.677368</td>\n",
       "      <td>79.670225</td>\n",
       "      <td>Turbine</td>\n",
       "      <td>Chicago</td>\n",
       "      <td>1.0</td>\n",
       "    </tr>\n",
       "  </tbody>\n",
       "</table>\n",
       "</div>"
      ],
      "text/plain": [
       "      temperature   pressure  vibration   humidity   equipment  location  \\\n",
       "7667    65.711521  37.505934   2.030521  49.331471        Pump  New York   \n",
       "7668    63.005855  45.164234   1.264585  61.905390        Pump  New York   \n",
       "7669    72.029230  34.757896   1.709046  49.972917        Pump   Atlanta   \n",
       "7670   107.086485  23.754114   1.142522  23.967977  Compressor   Atlanta   \n",
       "7671    28.468054  66.588978   4.677368  79.670225     Turbine   Chicago   \n",
       "\n",
       "      faulty  \n",
       "7667     0.0  \n",
       "7668     0.0  \n",
       "7669     0.0  \n",
       "7670     1.0  \n",
       "7671     1.0  "
      ]
     },
     "execution_count": 82,
     "metadata": {},
     "output_type": "execute_result"
    }
   ],
   "source": [
    "# Mostramos los últimos 5 registros\n",
    "data.tail()"
   ]
  },
  {
   "cell_type": "markdown",
   "metadata": {},
   "source": [
    "#### 2. Limpieza de datos (data cleaning)"
   ]
  },
  {
   "cell_type": "markdown",
   "metadata": {},
   "source": [
    "##### 2.1 Visualizacion de outliers mediante boxplots"
   ]
  },
  {
   "cell_type": "code",
   "execution_count": 83,
   "metadata": {},
   "outputs": [
    {
     "data": {
      "image/png": "[encoded data removed]",
      "text/plain": [
       "<Figure size 1500x1000 with 4 Axes>"
      ]
     },
     "metadata": {},
     "output_type": "display_data"
    }
   ],
   "source": [
    "columnas_outliers = ['temperature','pressure','vibration','humidity']\n",
    "\n",
    "fig, axes = plt.subplots(2, 2, figsize=(15, 10))\n",
    "axes = axes.flatten()\n",
    "\n",
    "#Graficamos la distribucion de las variables numericas\n",
    "for i, var in enumerate(columnas_outliers):\n",
    "    axes[i].boxplot(data[var])\n",
    "    axes[i].set_title(f\"Distribucion de {var}\")\n",
    "    axes[i].set_ylabel(\"Valores\")\n",
    "\n",
    "for j in range(len(columnas_outliers), len(axes)):\n",
    "    axes[j].axis('off')\n",
    "\n",
    "plt.show()"
   ]
  },
  {
   "cell_type": "markdown",
   "metadata": {},
   "source": [
    "#### 2.2 Eliminacion de outliers mediante la deteccion del rango intercuartilico"
   ]
  },
  {
   "cell_type": "code",
   "execution_count": 84,
   "metadata": {},
   "outputs": [
    {
     "name": "stdout",
     "output_type": "stream",
     "text": [
      "Cantidad de datos antes de la limpieza: 7672\n",
      "Cantidad de datos despues de la limpieza: 7461\n"
     ]
    }
   ],
   "source": [
    "# Eliminacion de outliers mediante deteccion del rango intercuartilico\n",
    "for col in columnas_outliers:\n",
    "     # Calcular el primer y tercer cuartil\n",
    "    Q1 = data[col].quantile(0.25)\n",
    "    Q3 = data[col].quantile(0.75)\n",
    "    IQR = Q3 - Q1\n",
    "\n",
    "    limite_inferior = Q1 - 1.5 * IQR\n",
    "    limite_superior = Q3 + 1.5 * IQR\n",
    "\n",
    "    data_clean = data[(data[col]>= limite_inferior) & (data[col] <= limite_superior)]\n",
    "\n",
    "\n",
    "\n",
    "print(\"Cantidad de datos antes de la limpieza:\", data.shape[0])\n",
    "print(\"Cantidad de datos despues de la limpieza:\", data_clean.shape[0])"
   ]
  },
  {
   "cell_type": "markdown",
   "metadata": {},
   "source": [
    "#### 2.4 Modificamos valores no numericos en numericos mediante tecnicas de remplazo"
   ]
  },
  {
   "cell_type": "code",
   "execution_count": 85,
   "metadata": {},
   "outputs": [
    {
     "name": "stdout",
     "output_type": "stream",
     "text": [
      "<class 'pandas.core.frame.DataFrame'>\n",
      "Index: 7461 entries, 0 to 7670\n",
      "Data columns (total 13 columns):\n",
      " #   Column                  Non-Null Count  Dtype  \n",
      "---  ------                  --------------  -----  \n",
      " 0   temperature             7461 non-null   float64\n",
      " 1   pressure                7461 non-null   float64\n",
      " 2   vibration               7461 non-null   float64\n",
      " 3   humidity                7461 non-null   float64\n",
      " 4   faulty                  7461 non-null   int64  \n",
      " 5   equipment_Compressor    7461 non-null   int64  \n",
      " 6   equipment_Pump          7461 non-null   int64  \n",
      " 7   equipment_Turbine       7461 non-null   int64  \n",
      " 8   location_Atlanta        7461 non-null   int64  \n",
      " 9   location_Chicago        7461 non-null   int64  \n",
      " 10  location_Houston        7461 non-null   int64  \n",
      " 11  location_New York       7461 non-null   int64  \n",
      " 12  location_San Francisco  7461 non-null   int64  \n",
      "dtypes: float64(4), int64(9)\n",
      "memory usage: 816.0 KB\n",
      "None\n",
      "   temperature   pressure  vibration   humidity  faulty  equipment_Compressor  \\\n",
      "0    58.180180  25.029278   0.606516  45.694907       0                     0   \n",
      "1    75.740712  22.954018   2.338095  41.867407       0                     1   \n",
      "2    71.358594  27.276830   1.389198  58.954409       0                     0   \n",
      "3    71.616985  32.242921   1.770690  40.565138       0                     0   \n",
      "4    66.506832  45.197471   0.345398  43.253795       0                     0   \n",
      "\n",
      "   equipment_Pump  equipment_Turbine  location_Atlanta  location_Chicago  \\\n",
      "0               0                  1                 1                 0   \n",
      "1               0                  0                 0                 1   \n",
      "2               0                  1                 0                 0   \n",
      "3               1                  0                 1                 0   \n",
      "4               1                  0                 0                 0   \n",
      "\n",
      "   location_Houston  location_New York  location_San Francisco  \n",
      "0                 0                  0                       0  \n",
      "1                 0                  0                       0  \n",
      "2                 0                  0                       1  \n",
      "3                 0                  0                       0  \n",
      "4                 0                  1                       0  \n"
     ]
    },
    {
     "name": "stderr",
     "output_type": "stream",
     "text": [
      "/tmp/ipykernel_17328/3024820577.py:2: SettingWithCopyWarning: \n",
      "A value is trying to be set on a copy of a slice from a DataFrame.\n",
      "Try using .loc[row_indexer,col_indexer] = value instead\n",
      "\n",
      "See the caveats in the documentation: https://pandas.pydata.org/pandas-docs/stable/user_guide/indexing.html#returning-a-view-versus-a-copy\n",
      "  data_clean[target] = data_clean[target].astype(int)\n"
     ]
    }
   ],
   "source": [
    "#Convertimos la columna target de float a int\n",
    "data_clean[target] = data_clean[target].astype(int)\n",
    "# Utilizos la tecnica One-Hot Encoding en las columnas equipment,location\n",
    "data_encoded = pd.get_dummies(data_clean, columns=['equipment','location'], dtype=int)\n",
    "\n",
    "#Verificamos que todas las columnas son numericas\n",
    "print(data_encoded.info())\n",
    "print(data_encoded.head())\n"
   ]
  },
  {
   "cell_type": "markdown",
   "metadata": {},
   "source": [
    "#### ⚖ 3. Balanceo del dataset "
   ]
  },
  {
   "cell_type": "code",
   "execution_count": 86,
   "metadata": {},
   "outputs": [
    {
     "name": "stdout",
     "output_type": "stream",
     "text": [
      "Tipos de clases\n",
      "faulty\n",
      "0    6886\n",
      "1     575\n",
      "Name: count, dtype: int64\n",
      "Proporcion de clases\n",
      "faulty\n",
      "0    92.29\n",
      "1     7.71\n",
      "Name: proportion, dtype: float64\n"
     ]
    }
   ],
   "source": [
    "class_types = data_encoded[target].value_counts()\n",
    "class_proportion = data_encoded[target].value_counts(normalize=True) * 100\n",
    "\n",
    "print(\"Tipos de clases\")\n",
    "print(class_types)\n",
    "print(\"Proporcion de clases\")\n",
    "print(round(class_proportion,2))\n"
   ]
  },
  {
   "cell_type": "code",
   "execution_count": 91,
   "metadata": {},
   "outputs": [
    {
     "data": {
      "text/plain": [
       "Text(0.5, 1.0, 'Distribución de clases antes de balancear el dataset')"
      ]
     },
     "execution_count": 91,
     "metadata": {},
     "output_type": "execute_result"
    },
    {
     "data": {
      "image/png": "[encoded data removed]",
      "text/plain": [
       "<Figure size 1200x500 with 1 Axes>"
      ]
     },
     "metadata": {},
     "output_type": "display_data"
    }
   ],
   "source": [
    "# Gráfico antes de SMOTE\n",
    "plt.figure(figsize=(12, 5))\n",
    "plt.subplot(1, 2, 1)\n",
    "sns.countplot(x=target, data=data)\n",
    "plt.title('Distribución de clases antes de balancear el dataset')"
   ]
  },
  {
   "cell_type": "markdown",
   "metadata": {},
   "source": [
    "#### Nota: Como podemos observar, existen un desbalanceo del dataset, que hace que los futuros datos que predigamos con nuestros modelos esten sesgado hacia una clase que es predominate en este caso la clase 0 (No existe fallo en la maquina), lo que predicciones erroneas."
   ]
  },
  {
   "cell_type": "code",
   "execution_count": 100,
   "metadata": {},
   "outputs": [
    {
     "name": "stdout",
     "output_type": "stream",
     "text": [
      "Tipos de clases despues del balanceo\n",
      "Número de muestras despues del balanceo:  13772\n",
      "Tipos de clases despues del balanceo\n",
      "faulty\n",
      "0    6886\n",
      "1    6886\n",
      "Name: count, dtype: int64\n"
     ]
    }
   ],
   "source": [
    "# Usamos SMOTE para balancear el dataset con valores sinteticos\n",
    "X = data_encoded.drop(columns=[target])\n",
    "y = data_encoded[target]\n",
    "smote = SMOTE(sampling_strategy='minority')\n",
    "X_resampled, y_resampled = smote.fit_resample(X, y)\n",
    "\n",
    "data_balanced = pd.DataFrame(X_resampled)\n",
    "data_balanced[target] = y_resampled\n",
    "\n",
    "\n",
    "# Comprobamos el numero de muestras despues de realizar el balanceo de clases\n",
    "class_types_res = pd.Series(y_resampled).value_counts()\n",
    "class_proportion = data_encoded[target].value_counts(normalize=True) * 100\n",
    "\n",
    "print(\"Tipos de clases despues del balanceo\")\n",
    "print(\"Número de muestras despues del balanceo: \", len(X_resampled))\n",
    "print(\"Tipos de clases despues del balanceo\")\n",
    "print(class_types_res)\n"
   ]
  },
  {
   "cell_type": "code",
   "execution_count": 101,
   "metadata": {},
   "outputs": [
    {
     "data": {
      "text/plain": [
       "Text(0.5, 1.0, 'Distribución después de SMOTE')"
      ]
     },
     "execution_count": 101,
     "metadata": {},
     "output_type": "execute_result"
    },
    {
     "data": {
      "image/png": "[encoded data removed]",
      "text/plain": [
       "<Figure size 640x480 with 1 Axes>"
      ]
     },
     "metadata": {},
     "output_type": "display_data"
    }
   ],
   "source": [
    "# Gráfico distribución de clases después de SMOTE\n",
    "plt.subplot(1, 2, 2)\n",
    "sns.countplot(x=target, data=data_balanced)\n",
    "plt.title('Distribución después de SMOTE')"
   ]
  },
  {
   "cell_type": "markdown",
   "metadata": {},
   "source": [
    "#### Como podemos ver el dataset ya esta balanceado, ahora procederemos a entrenar nuestra red neuronal "
   ]
  },
  {
   "cell_type": "markdown",
   "metadata": {},
   "source": [
    "#### 4. 🧠 Entrenamiento de la red neuronal"
   ]
  }
 ],
 "metadata": {
  "kernelspec": {
   "display_name": "Python 3",
   "language": "python",
   "name": "python3"
  },
  "language_info": {
   "codemirror_mode": {
    "name": "ipython",
    "version": 3
   },
   "file_extension": ".py",
   "mimetype": "text/x-python",
   "name": "python",
   "nbconvert_exporter": "python",
   "pygments_lexer": "ipython3",
   "version": "3.8.10"
  }
 },
 "nbformat": 4,
 "nbformat_minor": 2
}
