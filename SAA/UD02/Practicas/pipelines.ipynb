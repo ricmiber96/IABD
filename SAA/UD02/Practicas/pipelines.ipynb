{
 "cells": [
  {
   "cell_type": "code",
   "execution_count": null,
   "metadata": {},
   "outputs": [],
   "source": [
    "from sklearn.pipeline import Pipeline # La clase Pipeline\n",
    "from sklearn.svm import SVC # La clase de un clasificador\n",
    "from sklearn.preprocessing import StandardScaler # Una clase para normalizar datos\n",
    "operaciones = [('normalizar', StandardScaler()), ('clasificar', SVC())]\n",
    "pipe = Pipeline(operaciones)\n"
   ]
  },
  {
   "cell_type": "code",
   "execution_count": null,
   "metadata": {},
   "outputs": [],
   "source": [
    "# Otra forma de hacer Pipeline \n",
    "from sklearn.naive_bayes import GaussianNB\n",
    "from sklearn.preprocessing import StandardScaler\n",
    "from sklearn.pipeline import make_pipeline\n",
    "pipe1 = make_pipeline(StandardScaler(), GaussianNB(priors=None))\n",
    "# Equivale a: Pipeline(steps=[('standardscaler', StandardScaler()),\n",
    "# ('gaussiannb', GaussianNB())])"
   ]
  },
  {
   "cell_type": "code",
   "execution_count": 1,
   "metadata": {},
   "outputs": [
    {
     "name": "stdout",
     "output_type": "stream",
     "text": [
      "['zona_Ribera del Duero' 'zona_Rioja' 'zona_Valdepeñas' 'zona_Vinalopó'\n",
      " 'de' 'las' 'marqués' 'portia' 'ricardo' 'riscal' 'san' 'virtudes']\n"
     ]
    },
    {
     "data": {
      "text/plain": [
       "array([[0, 0, 1, 0, 0, 0, 0, 0, 1, 0, 1, 0],\n",
       "       [0, 0, 0, 1, 0, 1, 0, 0, 0, 0, 0, 1],\n",
       "       [1, 0, 0, 0, 0, 0, 0, 1, 0, 0, 0, 0],\n",
       "       [0, 1, 0, 0, 1, 0, 1, 0, 0, 1, 0, 0]])"
      ]
     },
     "execution_count": 1,
     "metadata": {},
     "output_type": "execute_result"
    }
   ],
   "source": [
    "import pandas as pd\n",
    "from sklearn.compose import ColumnTransformer\n",
    "from sklearn.feature_extraction.text import CountVectorizer\n",
    "from sklearn.preprocessing import OneHotEncoder\n",
    "\n",
    "X = pd.DataFrame(\n",
    " {'zona': ['Valdepeñas', 'Vinalopó', 'Ribera del Duero', 'Rioja'],\n",
    " 'bodega': [\"San Ricardo\", \"Las virtudes\", \"Portia\", \"Marqués de Riscal\"],\n",
    " 'puntuacion_experto': [5, 3, 4, 5],\n",
    " 'puntuacion_usuario': [4, 5, 4, 3]})\n",
    "\n",
    "ct = ColumnTransformer(\n",
    " [('zona_categorica', OneHotEncoder(dtype='int'), ['zona']),\n",
    " ('bodega_vector', CountVectorizer(), 'bodega')],\n",
    " remainder='drop', verbose_feature_names_out=False)\n",
    "ct.fit(X) # Entrenar significa aprender lo necesario para transformar\n",
    "print(ct.get_feature_names_out()) # Muestra las nuevas columnas que genera\n",
    "ct.transform(X).toarray()\n",
    "\n",
    "\n",
    "\n",
    "\n",
    "\n"
   ]
  }
 ],
 "metadata": {
  "kernelspec": {
   "display_name": "Python 3",
   "language": "python",
   "name": "python3"
  },
  "language_info": {
   "codemirror_mode": {
    "name": "ipython",
    "version": 3
   },
   "file_extension": ".py",
   "mimetype": "text/x-python",
   "name": "python",
   "nbconvert_exporter": "python",
   "pygments_lexer": "ipython3",
   "version": "3.12.7"
  }
 },
 "nbformat": 4,
 "nbformat_minor": 2
}
