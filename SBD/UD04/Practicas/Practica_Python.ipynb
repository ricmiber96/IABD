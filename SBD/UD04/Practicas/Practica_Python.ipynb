{
 "cells": [
  {
   "cell_type": "markdown",
   "metadata": {},
   "source": [
    "# Caso Practico Tema 4\n",
    "Enrique y Ana se conocieron hace 3 años y han decidido irse a vivir juntos.\n",
    "Les encantan los perros, así que además están pensando en adoptar uno. Enrique, que\n",
    "es programador, creó hace unos días un sencillo programa en Python para poder dar un\n",
    "vistazo rápido a las razas que más le gustan, a modo de DataFrame de Pandas en el que\n",
    "contempla tanto el nombre de la raza como una puntuación de 0 a 10 indicando cuánto le\n",
    "gusta esa raza.\n",
    "Ana está de acuerdo en adoptar una de las razas que Enrique tiene contempladas, así\n",
    "que le ha dicho cuánto le gusta cada una de ellas (de 0 a 100) para que Enrique lo integre\n",
    "en su DataFrame. Así podrán calcular medias para decidir qué raza les gusta más a los\n",
    "dos.\n"
   ]
  },
  {
   "cell_type": "markdown",
   "metadata": {},
   "source": [
    "### 📚 Importamos las librerias necesarias"
   ]
  },
  {
   "cell_type": "code",
   "execution_count": 19,
   "metadata": {},
   "outputs": [],
   "source": [
    "import pandas as pd"
   ]
  },
  {
   "cell_type": "markdown",
   "metadata": {},
   "source": [
    "### 📝Apartado 1:\n",
    "Crea un DataFrame llamado df a partir de la lista de razas y puntuaciones otorgadas por\n",
    "Enrique, usando el índice, las columnas que se te proporcionan."
   ]
  },
  {
   "cell_type": "code",
   "execution_count": 20,
   "metadata": {},
   "outputs": [
    {
     "name": "stdout",
     "output_type": "stream",
     "text": [
      "\n",
      "Apartado 1:\n",
      "----------------------------\n",
      "             Raza  Puntos\n",
      "uno       Caniche     8.1\n",
      "dos       Bulldog     7.3\n",
      "tres     ChowChow     7.6\n",
      "cuatro  Chihuahua     9.0\n",
      "cinco    Labrador     9.3\n"
     ]
    }
   ],
   "source": [
    "\n",
    "# Apartado 1: Crear DataFrame\n",
    "indice = ['uno', 'dos', 'tres', 'cuatro', 'cinco']\n",
    "columnas = ['Raza', 'Puntos']\n",
    "lista = [['Caniche', 8.1], ['Bulldog', 7.3], ['ChowChow', 7.6], ['Chihuahua', 9.0], ['Labrador', 9.3]]\n",
    "\n",
    "# Creamos el dataframe de pandas\n",
    "df = pd.DataFrame(lista, index=indice, columns=columnas)\n",
    "\n",
    "# Mostramos el dataframe\n",
    "print(\"\\nApartado 1:\")\n",
    "print(\"----------------------------\")\n",
    "print(df)"
   ]
  },
  {
   "cell_type": "markdown",
   "metadata": {},
   "source": [
    "#### 📝 Apartado 2:\n",
    "Ana le entrega sus puntuaciones a Enrique y éste las transcribe en forma de la siguiente lista:\n"
   ]
  },
  {
   "cell_type": "code",
   "execution_count": 21,
   "metadata": {},
   "outputs": [
    {
     "name": "stdout",
     "output_type": "stream",
     "text": [
      "\n",
      "Apartado 2:\n",
      "----------------------------\n",
      "             Raza  Puntos  PuntosAna\n",
      "uno       Caniche     8.1         61\n",
      "dos       Bulldog     7.3         75\n",
      "tres     ChowChow     7.6         82\n",
      "cuatro  Chihuahua     9.0         95\n",
      "cinco    Labrador     9.3         99\n"
     ]
    }
   ],
   "source": [
    "puntos_ana = [61,75,82,95,99]\n",
    "\n",
    "# Añadimos una nueva columna al dataframe con los puntos de Ana\n",
    "df['PuntosAna'] = puntos_ana\n",
    "\n",
    "# Mostramos el dataframe con la nueva columna\n",
    "print(\"\\nApartado 2:\")\n",
    "print(\"----------------------------\")\n",
    "print(df)"
   ]
  },
  {
   "cell_type": "markdown",
   "metadata": {},
   "source": [
    "#### 📝Apartado 3:\n",
    "Como las puntuaciones de Ana han entrado en valores de 0 a 100 y las de Enrique estaban de 0 a 10, divide la columna 'PuntosAna' entre 10 de modo que todas las puntuaciones queden en la misma escala.\n"
   ]
  },
  {
   "cell_type": "code",
   "execution_count": 22,
   "metadata": {},
   "outputs": [
    {
     "name": "stdout",
     "output_type": "stream",
     "text": [
      "\n",
      "Apartado 3:\n",
      "----------------------------\n",
      "             Raza  Puntos  PuntosAna\n",
      "uno       Caniche     8.1        6.1\n",
      "dos       Bulldog     7.3        7.5\n",
      "tres     ChowChow     7.6        8.2\n",
      "cuatro  Chihuahua     9.0        9.5\n",
      "cinco    Labrador     9.3        9.9\n"
     ]
    }
   ],
   "source": [
    "# Dividimos los puntos de Ana entre 10 para que esten en la misma escala que los de Enrique\n",
    "df['PuntosAna'] = df['PuntosAna'] / 10\n",
    "print(\"\\nApartado 3:\")\n",
    "print(\"----------------------------\")\n",
    "print(df)"
   ]
  },
  {
   "cell_type": "markdown",
   "metadata": {},
   "source": [
    "#### 📝Apartado 4:\n",
    "Enrique y Ana han estado viendo una revista de animales y han decidido añadir otras dos\n",
    "razas más, por lo que han creado la siguiente lista ya con sus puntuaciones integradas."
   ]
  },
  {
   "cell_type": "code",
   "execution_count": 23,
   "metadata": {},
   "outputs": [
    {
     "name": "stdout",
     "output_type": "stream",
     "text": [
      "\n",
      "Apartado 4:\n",
      "----------------------------\n",
      "             Raza  Puntos  PuntosAna\n",
      "uno       Caniche     8.1        6.1\n",
      "dos       Bulldog     7.3        7.5\n",
      "tres     ChowChow     7.6        8.2\n",
      "cuatro  Chihuahua     9.0        9.5\n",
      "cinco    Labrador     9.3        9.9\n",
      "nuevo1   Samoyedo     9.2        8.9\n",
      "nuevo2   Pinscher     8.1        6.7\n"
     ]
    }
   ],
   "source": [
    "lista2 = [['Samoyedo',9.2,8.9],['Pinscher',8.1,6.7]]\n",
    "# Creamos nuevos indices para los nuevos datos del dataframe\n",
    "nuevos_indices = ['nuevo1', 'nuevo2']\n",
    "\n",
    "# Creamos un nuevo dataframe con los nuevos datos\n",
    "df2 = pd.DataFrame(lista2, index=nuevos_indices, columns=['Raza', 'Puntos', 'PuntosAna'])\n",
    "\n",
    "# Concatenamos los dos dataframes\n",
    "df = pd.concat([df, df2])\n",
    "\n",
    "# Mostramos el dataframe con los nuevos datos\n",
    "print(\"\\nApartado 4:\")\n",
    "print(\"----------------------------\")\n",
    "print(df)"
   ]
  },
  {
   "cell_type": "markdown",
   "metadata": {},
   "source": [
    "#### 📝 Apartado 5:\n",
    "Crea la columna 'Media' para poder ver la puntuación media para cada raza."
   ]
  },
  {
   "cell_type": "code",
   "execution_count": 24,
   "metadata": {},
   "outputs": [
    {
     "name": "stdout",
     "output_type": "stream",
     "text": [
      "\n",
      "Apartado 5:\n",
      "----------------------------\n",
      "             Raza  Puntos  PuntosAna  Media\n",
      "uno       Caniche     8.1        6.1   7.10\n",
      "dos       Bulldog     7.3        7.5   7.40\n",
      "tres     ChowChow     7.6        8.2   7.90\n",
      "cuatro  Chihuahua     9.0        9.5   9.25\n",
      "cinco    Labrador     9.3        9.9   9.60\n",
      "nuevo1   Samoyedo     9.2        8.9   9.05\n",
      "nuevo2   Pinscher     8.1        6.7   7.40\n"
     ]
    }
   ],
   "source": [
    "df['Media'] = df[['Puntos', 'PuntosAna']].mean(axis=1)\n",
    "\n",
    "# Mostramos el dataframe con la nueva columna de la media\n",
    "print(\"\\nApartado 5:\")\n",
    "print(\"----------------------------\")\n",
    "print(df)"
   ]
  },
  {
   "cell_type": "markdown",
   "metadata": {},
   "source": [
    "#### 📝 Apartado 6:\n",
    "Enrique y Ana deciden que no tendrán un bulldog. Elimina la fila cuyo índice es 'dos'.\n"
   ]
  },
  {
   "cell_type": "code",
   "execution_count": 25,
   "metadata": {},
   "outputs": [
    {
     "name": "stdout",
     "output_type": "stream",
     "text": [
      "\n",
      "Apartado 6:\n",
      "----------------------------\n",
      "             Raza  Puntos  PuntosAna  Media\n",
      "uno       Caniche     8.1        6.1   7.10\n",
      "tres     ChowChow     7.6        8.2   7.90\n",
      "cuatro  Chihuahua     9.0        9.5   9.25\n",
      "cinco    Labrador     9.3        9.9   9.60\n",
      "nuevo1   Samoyedo     9.2        8.9   9.05\n",
      "nuevo2   Pinscher     8.1        6.7   7.40\n"
     ]
    }
   ],
   "source": [
    "df = df.drop(index='dos')\n",
    "\n",
    "# Mostramos el dataframe sin la fila con el indice 2\n",
    "print(\"\\nApartado 6:\")\n",
    "print(\"----------------------------\")\n",
    "print(df)"
   ]
  },
  {
   "cell_type": "markdown",
   "metadata": {},
   "source": [
    "#### 📝 Apartado 7:\n",
    "Viendo las puntuaciones medias, Enrique y Ana deciden que la decisión va a estar entre\n",
    "chihuahua, labrador y samoyedo, por lo que deciden obtener sólo esas filas del\n",
    "DataFrame (en concreto desde la posición 2 hasta la 5 **no incluída** ).\n"
   ]
  },
  {
   "cell_type": "code",
   "execution_count": 26,
   "metadata": {},
   "outputs": [
    {
     "name": "stdout",
     "output_type": "stream",
     "text": [
      "\n",
      "Apartado 7:\n",
      "----------------------------\n",
      "             Raza  Puntos  PuntosAna  Media\n",
      "cuatro  Chihuahua     9.0        9.5   9.25\n",
      "cinco    Labrador     9.3        9.9   9.60\n",
      "nuevo1   Samoyedo     9.2        8.9   9.05\n"
     ]
    }
   ],
   "source": [
    "# Filtramos las filas del dataframe obteniendo solo las filas de la 2 a la 4 (la 5 no esta incluida)\n",
    "df_filtrado = df.iloc[2:5]\n",
    "\n",
    "# Mostramos el dataframe filtrado\n",
    "print(\"\\nApartado 7:\")\n",
    "print(\"----------------------------\")\n",
    "print(df_filtrado)"
   ]
  },
  {
   "cell_type": "markdown",
   "metadata": {},
   "source": [
    "#### 📝 Apartado 8:\n",
    "Por último, sólo por curiosidad, deciden ver información estadística sobre las filas que les\n",
    "han quedado."
   ]
  },
  {
   "cell_type": "code",
   "execution_count": 27,
   "metadata": {},
   "outputs": [
    {
     "name": "stdout",
     "output_type": "stream",
     "text": [
      "\n",
      "Apartado 8:\n",
      "----------------------------\n",
      "         Puntos  PuntosAna     Media\n",
      "count  3.000000   3.000000  3.000000\n",
      "mean   9.166667   9.433333  9.300000\n",
      "std    0.152753   0.503322  0.278388\n",
      "min    9.000000   8.900000  9.050000\n",
      "25%    9.100000   9.200000  9.150000\n",
      "50%    9.200000   9.500000  9.250000\n",
      "75%    9.250000   9.700000  9.425000\n",
      "max    9.300000   9.900000  9.600000\n"
     ]
    }
   ],
   "source": [
    "# Obtenemos la descripcion del dataframe filtrado\n",
    "descripcion = df_filtrado.describe()\n",
    "\n",
    "# Mostramos la descripcion del dataframe filtrado\n",
    "print(\"\\nApartado 8:\")\n",
    "print(\"----------------------------\")\n",
    "print(descripcion)"
   ]
  }
 ],
 "metadata": {
  "kernelspec": {
   "display_name": "Python 3",
   "language": "python",
   "name": "python3"
  },
  "language_info": {
   "codemirror_mode": {
    "name": "ipython",
    "version": 3
   },
   "file_extension": ".py",
   "mimetype": "text/x-python",
   "name": "python",
   "nbconvert_exporter": "python",
   "pygments_lexer": "ipython3",
   "version": "3.8.10"
  }
 },
 "nbformat": 4,
 "nbformat_minor": 2
}
