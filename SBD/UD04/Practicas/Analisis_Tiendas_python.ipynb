{
 "cells": [
  {
   "cell_type": "markdown",
   "metadata": {},
   "source": [
    "## Análisis de Ventas y Gastos en una Empresa con 5 Tiendas\n",
    "Una empresa cuenta con 5 tiendas, y se desea analizar sus ventas y gastos mensuales durante un\n",
    "año (12 meses). Los gastos están divididos en las siguientes categorías:"
   ]
  },
  {
   "cell_type": "code",
   "execution_count": null,
   "metadata": {},
   "outputs": [],
   "source": [
    "# Poner nombre a las 5 tiendas y que los meses se vean al mostrar los datos.\n",
    "# Los valores deberán estar entre estos rangos, pero generados aleatoriamente:\n",
    "# ventas 50000:150000\n",
    "# gastos_material 5000:20000,\n",
    "# gastos_personal 20000:50000\n",
    "# gastos_publicidad 3000:10000\n",
    "# gastos_eléctricos 2000:7000\n",
    "\n",
    "import numpy as np\n",
    "import pandas as pd\n",
    "\n",
    "# Fijar semilla para obtener los mismos números aleatorios en cada ejecución\n",
    "np.random.seed(42)\n",
    "array_meses = ['enero', 'febrero', 'marzo', 'abril', 'mayo', 'junio', 'julio', 'agosto', 'septiembre', 'octubre', 'noviembre', 'diciembre']\n",
    "array_tiendas = ['tienda1', 'tienda2', 'tienda3', 'tienda4', 'tienda5']\n",
    "columnas_tiendas = ['ventas', 'gastos_material', 'gastos_personal', 'gastos_publicidad', 'gastos_electricos']\n",
    "\n",
    "# Generamos los datos aleatorios\n",
    "ventas = np.random.randint(50000, 150000, (5, 12))\n",
    "gastos_material = np.random.randint(5000, 20000, (5, 12))\n",
    "gastos_personal = np.random.randint(20000, 50000, (5, 12))\n",
    "gastos_publicidad = np.random.randint(3000, 10000, (5, 12))\n",
    "gastos_electricos = np.random.randint(2000, 7000, (5, 12))\n",
    "data = []\n",
    "\n",
    "# Mostramos los datos\n",
    "# Crear el DataFrame\n",
    "data = []\n",
    "for i in range(5):\n",
    "    for j in range(12):\n",
    "        data.append([array_tiendas[i], array_meses[j], ventas[i, j], gastos_material[i, j], gastos_personal[i, j], gastos_publicidad[i, j], gastos_electricos[i, j]])\n",
    "df = pd.DataFrame(data, columns=[\"tienda\", \"mes\", \"ventas\", \"gastos_material\", \"gastos_personal\", \"gastos_publicidad\", \"gastos_electricos\"])\n"
   ]
  },
  {
   "cell_type": "code",
   "execution_count": 102,
   "metadata": {},
   "outputs": [
    {
     "name": "stdout",
     "output_type": "stream",
     "text": [
      "    tienda      mes  ventas  gastos_material  gastos_personal  \\\n",
      "0  tienda1    enero   65795            12555            25892   \n",
      "1  tienda1  febrero   50860             8073            23561   \n",
      "2  tienda1    marzo  126820             6021            46854   \n",
      "3  tienda1    abril  104886            16653            26184   \n",
      "4  tienda1     mayo   56265            15805            39483   \n",
      "\n",
      "   gastos_publicidad  gastos_electricos  beneficio  gastos_mensuales  \n",
      "0               4722               2698      19928             45867  \n",
      "1               6314               4160       8752             42108  \n",
      "2               6157               6097      61691             65129  \n",
      "3               8915               6737      46397             58489  \n",
      "4               5625               2854      -7502             63767  \n"
     ]
    }
   ],
   "source": [
    "# Mostrar las primeras 5 filas del DataFrame\n",
    "print(df.head())"
   ]
  },
  {
   "cell_type": "markdown",
   "metadata": {},
   "source": [
    "### 1. Cálculo de Totales\n",
    "#### A nivel global (sumando todas las tiendas):\n",
    "- Total de ingresos mensuales.\n",
    "- Total de cada tipo de gasto mensual.\n",
    "- Beneficio mensual total (beneficio = ingresos - gastos)."
   ]
  },
  {
   "cell_type": "code",
   "execution_count": 50,
   "metadata": {},
   "outputs": [
    {
     "name": "stdout",
     "output_type": "stream",
     "text": [
      "Total de ingresos\n",
      "6060420\n",
      "---------------\n",
      "Total de gastos\n",
      "gastos_material       765316\n",
      "gastos_personal      2173388\n",
      "gastos_publicidad     398817\n",
      "gastos_electricos     272301\n",
      "dtype: int64\n",
      "---------------\n",
      "Beneficio Total\n",
      "2450598\n",
      "---------------\n"
     ]
    }
   ],
   "source": [
    "# Total de ingresos\n",
    "print('Total de ingresos')\n",
    "print(df['ventas'].sum())\n",
    "print(\"---------------\")\n",
    "\n",
    "# Total de cada gasto por tienda\n",
    "print('Total de gastos')\n",
    "print(df[columnas_tiendas[1:]].sum())\n",
    "print(\"---------------\")\n",
    "\n",
    "# Beneficio mensual de cada tienda (beneficio = ingresos - gastos)\n",
    "df['beneficio'] = df['ventas'] - df[columnas_tiendas[1:]].sum(axis=1)\n",
    "print('Beneficio Total')\n",
    "print(df['beneficio'].sum())\n",
    "print(\"---------------\")\n"
   ]
  },
  {
   "cell_type": "markdown",
   "metadata": {},
   "source": [
    "#### A nivel de cada tienda:\n",
    "- Ingresos mensuales de cada tienda.\n",
    "- Total de cada tipo de gasto mensual por tienda.\n",
    "- Beneficio mensual por tienda."
   ]
  },
  {
   "cell_type": "code",
   "execution_count": 65,
   "metadata": {},
   "outputs": [
    {
     "name": "stdout",
     "output_type": "stream",
     "text": [
      "Ingresos mensuales de cada tienda\n",
      "tienda\n",
      "tienda1    1123211\n",
      "tienda2    1244514\n",
      "tienda3    1265885\n",
      "tienda4    1181351\n",
      "tienda5    1245459\n",
      "Name: ventas, dtype: int64\n",
      "---------------\n"
     ]
    }
   ],
   "source": [
    "# Ingresos mensuales de cada tienda\n",
    "print('Ingresos mensuales de cada tienda')\n",
    "print(df.groupby(['tienda'])['ventas'].sum())\n",
    "print(\"---------------\")\n"
   ]
  },
  {
   "cell_type": "code",
   "execution_count": null,
   "metadata": {},
   "outputs": [
    {
     "name": "stdout",
     "output_type": "stream",
     "text": [
      "Gastos mensuales de cada tienda\n",
      "         gastos_material  gastos_personal  gastos_publicidad  \\\n",
      "tienda                                                         \n",
      "tienda1           163648           433621              79550   \n",
      "tienda2           162372           399977              76025   \n",
      "tienda3           148294           440132              85054   \n",
      "tienda4           131168           470780              78431   \n",
      "tienda5           159834           428878              79757   \n",
      "\n",
      "         gastos_electricos  \n",
      "tienda                      \n",
      "tienda1              54880  \n",
      "tienda2              55971  \n",
      "tienda3              50232  \n",
      "tienda4              52534  \n",
      "tienda5              58684  \n",
      "---------------\n"
     ]
    }
   ],
   "source": [
    "# Gastos mensuales de cada tienda\n",
    "print('Gastos mensuales de cada tienda')\n",
    "print(df.groupby(['tienda'])[columnas_tiendas[1:]].sum())\n",
    "print(\"---------------\")"
   ]
  },
  {
   "cell_type": "code",
   "execution_count": 81,
   "metadata": {},
   "outputs": [
    {
     "name": "stdout",
     "output_type": "stream",
     "text": [
      "Beneficio mensual de cada tienda\n",
      "tienda\n",
      "tienda1    391512\n",
      "tienda2    550169\n",
      "tienda3    542173\n",
      "tienda4    448438\n",
      "tienda5    518306\n",
      "Name: beneficio, dtype: int64\n",
      "---------------\n"
     ]
    }
   ],
   "source": [
    "# Beneficio mensual de cada tienda\n",
    "print('Beneficio mensual de cada tienda')\n",
    "print(df.groupby(['tienda'])['beneficio'].sum())\n",
    "print(\"---------------\")"
   ]
  },
  {
   "cell_type": "markdown",
   "metadata": {},
   "source": [
    "### 2. Análisis de los Meses Clave\n",
    "\n",
    "#### A nivel global:\n",
    "- Mes con mayores ingresos y mes con menores ingresos.\n",
    "- Mes con mayor beneficio y mes con menor beneficio."
   ]
  },
  {
   "cell_type": "code",
   "execution_count": 88,
   "metadata": {},
   "outputs": [
    {
     "name": "stdout",
     "output_type": "stream",
     "text": [
      "Mes con mayores ingresos:\n",
      "abril con 586339\n",
      "---------------\n",
      "Mes con menores ingresos:\n",
      "mayo con 365024\n",
      "---------------\n",
      "Mes con mayores beneficio:\n",
      "agosto con 274402\n",
      "----------------\n",
      "Mes con menores beneficio:\n",
      "marzo con 83332\n"
     ]
    }
   ],
   "source": [
    "# Mes con mayores ingresos y mes con menores ingresos\n",
    "print('Mes con mayores ingresos:')\n",
    "mes_max = df.groupby(['mes'])['ventas'].sum().idxmax()\n",
    "valor_max = df.groupby(['mes'])['ventas'].sum().max()\n",
    "print(f\"{mes_max} con {valor_max}\")\n",
    "print(\"---------------\")\n",
    "\n",
    "print('Mes con menores ingresos:')\n",
    "mes_min = df.groupby(['mes'])['ventas'].sum().idxmin()\n",
    "valor_min = df.groupby(['mes'])['ventas'].sum().min()\n",
    "print(f\"{mes_min} con {valor_min}\")\n",
    "\n",
    "print(\"---------------\")\n",
    "print('Mes con mayores beneficio:')\n",
    "mes_max = df.groupby(['mes'])['beneficio'].sum().idxmax()\n",
    "valor_max = df.groupby(['mes'])['beneficio'].sum().max()\n",
    "print(f\"{mes_max} con {valor_max}\")\n",
    "\n",
    "print(\"----------------\")\n",
    "print('Mes con menores beneficio:')\n",
    "mes_min = df.groupby(['mes'])['beneficio'].sum().idxmin()\n",
    "valor_min = df.groupby(['mes'])['beneficio'].sum().min()\n",
    "print(f\"{mes_min} con {valor_min}\")"
   ]
  },
  {
   "cell_type": "markdown",
   "metadata": {},
   "source": [
    "\n",
    "#### A nivel de cada tienda:\n",
    "- Mes con mayores ingresos y mes con menores ingresos por tienda.\n",
    "- Mes con mayor beneficio y mes con menor beneficio por tienda."
   ]
  },
  {
   "cell_type": "code",
   "execution_count": 98,
   "metadata": {},
   "outputs": [
    {
     "name": "stdout",
     "output_type": "stream",
     "text": [
      "A nivel de tienda\n",
      "Mes con mayores ingresos:\n",
      "     tienda        mes  ventas\n",
      "7   tienda1     agosto  137498\n",
      "22  tienda2  noviembre  135305\n",
      "25  tienda3    febrero  143016\n",
      "42  tienda4      julio  146276\n",
      "57  tienda5    octubre  142067\n"
     ]
    }
   ],
   "source": [
    "print(\"A nivel de tienda\")\n",
    "print('Mes con mayores ingresos:')\n",
    "idx_max = df.groupby(\"tienda\")[\"ventas\"].idxmax()\n",
    "tiendas_mes_max = df.loc[idx_max, [\"tienda\", \"mes\", \"ventas\"]]\n",
    "print(tiendas_mes_max)\n"
   ]
  },
  {
   "cell_type": "code",
   "execution_count": 99,
   "metadata": {},
   "outputs": [
    {
     "name": "stdout",
     "output_type": "stream",
     "text": [
      "Mes con menores ingresos:\n",
      "     tienda      mes  ventas\n",
      "1   tienda1  febrero   50860\n",
      "14  tienda2    marzo   50769\n",
      "29  tienda3    junio   52747\n",
      "40  tienda4     mayo   53890\n",
      "54  tienda5    julio   67159\n"
     ]
    }
   ],
   "source": [
    "print('Mes con menores ingresos:')\n",
    "idx_min = df.groupby(\"tienda\")[\"ventas\"].idxmin()\n",
    "tiendas_mes_min = df.loc[idx_min, [\"tienda\", \"mes\", \"ventas\"]]\n",
    "print(tiendas_mes_min)"
   ]
  },
  {
   "cell_type": "code",
   "execution_count": 100,
   "metadata": {},
   "outputs": [
    {
     "name": "stdout",
     "output_type": "stream",
     "text": [
      "Mes con mayores beneficio:\n",
      "     tienda        mes  beneficio\n",
      "7   tienda1     agosto      82068\n",
      "22  tienda2  noviembre      82360\n",
      "25  tienda3    febrero      79335\n",
      "42  tienda4      julio      90603\n",
      "57  tienda5    octubre      92550\n"
     ]
    }
   ],
   "source": [
    "print('Mes con mayores beneficio:')\n",
    "idx_max = df.groupby(\"tienda\")[\"beneficio\"].idxmax()\n",
    "tiendas_mes_max = df.loc[idx_max, [\"tienda\", \"mes\", \"beneficio\"]]\n",
    "print(tiendas_mes_max)"
   ]
  },
  {
   "cell_type": "code",
   "execution_count": 101,
   "metadata": {},
   "outputs": [
    {
     "name": "stdout",
     "output_type": "stream",
     "text": [
      "Mes con menores beneficio:\n",
      "     tienda         mes  beneficio\n",
      "10  tienda1   noviembre     -10714\n",
      "14  tienda2       marzo      -3426\n",
      "29  tienda3       junio       2194\n",
      "40  tienda4        mayo     -10182\n",
      "56  tienda5  septiembre      15188\n"
     ]
    }
   ],
   "source": [
    "print('Mes con menores beneficio:')\n",
    "idx_min = df.groupby(\"tienda\")[\"beneficio\"].idxmin()\n",
    "tiendas_mes_min = df.loc[idx_min, [\"tienda\", \"mes\", \"beneficio\"]]\n",
    "print(tiendas_mes_min)"
   ]
  },
  {
   "cell_type": "markdown",
   "metadata": {},
   "source": [
    "### 3. Estadísticas Mensuales\n",
    "\n",
    "#### A nivel global:\n",
    "- Media, mediana, moda y desviación típica de los ingresos mensuales.\n",
    "- Media, mediana, moda y desviación típica del beneficio mensual."
   ]
  },
  {
   "cell_type": "code",
   "execution_count": 107,
   "metadata": {},
   "outputs": [
    {
     "name": "stdout",
     "output_type": "stream",
     "text": [
      "A nivel global:\n",
      "--------------\n",
      "Ingresos mensuales\n",
      "Media global de ventas: 101007.0\n",
      "Mediana global de ventas: 109442.5\n",
      "Moda global de ventas: [50769, 50860, 52747, 53890, 55311, 56265, 58792, 60627, 61394, 65795, 66023, 67159, 68431, 73483, 73897, 75658, 78693, 81551, 85773, 85920, 87194, 91090, 91606, 93001, 94131, 98555, 103707, 104886, 106886, 109150, 109735, 110263, 112955, 114820, 114925, 115725, 116803, 117121, 117221, 117435, 117969, 118148, 119092, 119479, 121932, 123969, 126552, 126820, 130038, 130077, 132386, 133104, 134478, 134654, 135305, 137313, 137498, 142067, 143016, 146276]\n",
      "--------------\n",
      "Beneficio mensuales\n",
      "Media global de beneficio: 40843.3\n",
      "Mediana global de beneficio: 42700.0\n",
      "Moda global de beneficio: [-10714, -10182, -7502, -6437, -3426, -1949, 1780, 2194, 8310, 8752, 14381, 15188, 15524, 16677, 17123, 19694, 19928, 20616, 21303, 24293, 25143, 26597, 33161, 34381, 34647, 36013, 36552, 40161, 41435, 42124, 43276, 44246, 45868, 46397, 49261, 53006, 53436, 54785, 55365, 56750, 57007, 59326, 60104, 60309, 61691, 63530, 64977, 66295, 69369, 70098, 72098, 73495, 73515, 75928, 77783, 79335, 82068, 82360, 90603, 92550]\n"
     ]
    }
   ],
   "source": [
    "print(\"A nivel global:\")\n",
    "print(\"--------------\")\n",
    "print(\"Ingresos mensuales\") \n",
    "media_global = df[\"ventas\"].mean()\n",
    "print(\"Media global de ventas:\", media_global)\n",
    "\n",
    "mediana_global = df[\"ventas\"].median()\n",
    "print(\"Mediana global de ventas:\", mediana_global)\n",
    "\n",
    "moda_global = df[\"ventas\"].mode()\n",
    "print(\"Moda global de ventas:\", list(moda_global))\n",
    "\n",
    "print(\"--------------\")\n",
    "print(\"Beneficio mensuales\")\n",
    "media_beneficio_global = df[\"beneficio\"].mean()\n",
    "print(\"Media global de beneficio:\", media_beneficio_global)\n",
    "\n",
    "mediana_beneficio_global = df[\"beneficio\"].median()\n",
    "print(\"Mediana global de beneficio:\", mediana_beneficio_global)\n",
    "\n",
    "moda_beneficio_global = df[\"beneficio\"].mode()\n",
    "print(\"Moda global de beneficio:\", list(moda_beneficio_global))\n",
    "\n"
   ]
  },
  {
   "cell_type": "markdown",
   "metadata": {},
   "source": [
    "\n",
    "#### A nivel de cada tienda:\n",
    "- Media, mediana, moda y desviación típica de los ingresos por tienda.\n",
    "- Media, mediana, moda y desviación típica del beneficio por tienda."
   ]
  },
  {
   "cell_type": "code",
   "execution_count": 114,
   "metadata": {},
   "outputs": [
    {
     "name": "stdout",
     "output_type": "stream",
     "text": [
      "A nivel de tienda:\n",
      "--------------\n",
      "Ingresos mensuales\n",
      "Media de ventas por tienda: tienda\n",
      "tienda1     93600.92\n",
      "tienda2    103709.50\n",
      "tienda3    105490.42\n",
      "tienda4     98445.92\n",
      "tienda5    103788.25\n",
      "Name: ventas, dtype: float64\n",
      "Mediana de ventas por tienda: tienda\n",
      "tienda1     92610.5\n",
      "tienda2    113887.5\n",
      "tienda3    112437.5\n",
      "tienda4    104204.5\n",
      "tienda5    107838.0\n",
      "Name: ventas, dtype: float64\n",
      "Moda de ventas por tienda: tienda     \n",
      "tienda1  0      50860\n",
      "         1      56265\n",
      "         2      65795\n",
      "         3      66023\n",
      "         4      87194\n",
      "         5      91090\n",
      "         6      94131\n",
      "         7     104886\n",
      "         8     110263\n",
      "         9     126820\n",
      "         10    132386\n",
      "         11    137498\n",
      "tienda2  0      50769\n",
      "         1      55311\n",
      "         2      78693\n",
      "         3     103707\n",
      "         4     109735\n",
      "         5     112955\n",
      "         6     114820\n",
      "         7     114925\n",
      "         8     117221\n",
      "         9     117969\n",
      "         10    133104\n",
      "         11    135305\n",
      "tienda3  0      52747\n",
      "         1      68431\n",
      "         2      75658\n",
      "         3      85773\n",
      "         4     106886\n",
      "         5     109150\n",
      "         6     115725\n",
      "         7     117435\n",
      "         8     121932\n",
      "         9     134478\n",
      "         10    134654\n",
      "         11    143016\n",
      "tienda4  0      53890\n",
      "         1      58792\n",
      "         2      60627\n",
      "         3      61394\n",
      "         4      81551\n",
      "         5      91606\n",
      "         6     116803\n",
      "         7     119092\n",
      "         8     123969\n",
      "         9     130038\n",
      "         10    137313\n",
      "         11    146276\n",
      "tienda5  0      67159\n",
      "         1      73483\n",
      "         2      73897\n",
      "         3      85920\n",
      "         4      93001\n",
      "         5      98555\n",
      "         6     117121\n",
      "         7     118148\n",
      "         8     119479\n",
      "         9     126552\n",
      "         10    130077\n",
      "         11    142067\n",
      "Name: ventas, dtype: int64\n"
     ]
    }
   ],
   "source": [
    "print(\"A nivel de tienda:\")\n",
    "print(\"--------------\")\n",
    "print(\"Ingresos mensuales\")\n",
    "media_tienda = df.groupby(\"tienda\")[\"ventas\"].mean()\n",
    "print(\"Media de ventas por tienda:\", round(media_tienda, 2))\n",
    "\n",
    "mediana_tienda = df.groupby(\"tienda\")[\"ventas\"].median()\n",
    "print(\"Mediana de ventas por tienda:\", mediana_tienda)\n",
    "\n",
    "moda_tienda = df.groupby(\"tienda\")[\"ventas\"].apply(lambda x: x.mode())\n",
    "print(\"Moda de ventas por tienda:\", moda_tienda)\n",
    "\n"
   ]
  },
  {
   "cell_type": "code",
   "execution_count": null,
   "metadata": {},
   "outputs": [],
   "source": [
    "print(\"--------------\")\n",
    "print(\"Beneficio mensuales\")\n",
    "media_beneficio_tienda = df.groupby(\"tienda\")[\"beneficio\"].mean()\n",
    "print(\"Media de beneficio por tienda:\", media_beneficio_tienda)\n",
    "\n",
    "mediana_beneficio_tienda = df.groupby(\"tienda\")[\"beneficio\"].median()\n",
    "print(\"Mediana de beneficio por tienda:\", mediana_beneficio_tienda)\n",
    "\n",
    "moda_beneficio_tienda = df.groupby(\"tienda\")[\"beneficio\"].apply(lambda x: x.mode())\n",
    "print(\"Moda de beneficio por tienda:\", moda_beneficio_tienda)"
   ]
  },
  {
   "cell_type": "markdown",
   "metadata": {},
   "source": [
    "### 4. Conclusiones\n",
    "- Explicar las conclusiones extraídas de cada análisis.\n",
    "- Comparar los resultados entre tiendas y determinar qué tiendas tienen mejor rendimiento.\n",
    "- Identificar patrones o tendencias en las ventas y los gastos tanto a nivel global como por tienda."
   ]
  },
  {
   "cell_type": "code",
   "execution_count": null,
   "metadata": {},
   "outputs": [],
   "source": []
  }
 ],
 "metadata": {
  "kernelspec": {
   "display_name": "Python 3",
   "language": "python",
   "name": "python3"
  },
  "language_info": {
   "codemirror_mode": {
    "name": "ipython",
    "version": 3
   },
   "file_extension": ".py",
   "mimetype": "text/x-python",
   "name": "python",
   "nbconvert_exporter": "python",
   "pygments_lexer": "ipython3",
   "version": "3.8.10"
  }
 },
 "nbformat": 4,
 "nbformat_minor": 2
}
