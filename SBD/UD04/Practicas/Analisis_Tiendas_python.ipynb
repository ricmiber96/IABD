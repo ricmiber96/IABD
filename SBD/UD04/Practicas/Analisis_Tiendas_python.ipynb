{
 "cells": [
  {
   "cell_type": "markdown",
   "metadata": {},
   "source": [
    "## Análisis de Ventas y Gastos en una Empresa con 5 Tiendas\n",
    "Una empresa cuenta con 5 tiendas, y se desea analizar sus ventas y gastos mensuales durante un\n",
    "año (12 meses). Los gastos están divididos en las siguientes categorías:"
   ]
  },
  {
   "cell_type": "code",
   "execution_count": 20,
   "metadata": {},
   "outputs": [],
   "source": [
    "import numpy as np\n",
    "import pandas as pd\n",
    "\n",
    "# Fijar semilla para obtener los mismos números aleatorios en cada ejecución\n",
    "np.random.seed(42)\n",
    "array_meses = ['enero', 'febrero', 'marzo', 'abril', 'mayo', 'junio', 'julio', 'agosto', 'septiembre', 'octubre', 'noviembre', 'diciembre']\n",
    "array_tiendas = ['Microsoft', 'Apple', 'OpenAI', 'Google', 'Amazon']\n",
    "columnas_tiendas = ['ventas', 'gastos_material', 'gastos_personal', 'gastos_publicidad', 'gastos_electricos']\n",
    "\n",
    "# Generamos los datos aleatorios\n",
    "ventas = np.random.randint(50000, 150000, (5, 12))\n",
    "gastos_material = np.random.randint(5000, 20000, (5, 12))\n",
    "gastos_personal = np.random.randint(20000, 50000, (5, 12))\n",
    "gastos_publicidad = np.random.randint(3000, 10000, (5, 12))\n",
    "gastos_electricos = np.random.randint(2000, 7000, (5, 12))\n",
    "data = []\n",
    "\n",
    "# Mostramos los datos\n",
    "# Crear el DataFrame\n",
    "data = []\n",
    "for i in range(5):\n",
    "    for j in range(12):\n",
    "        data.append([array_tiendas[i], array_meses[j], ventas[i, j], gastos_material[i, j], gastos_personal[i, j], gastos_publicidad[i, j], gastos_electricos[i, j]])\n",
    "df = pd.DataFrame(data, columns=[\"tienda\", \"mes\", \"ventas\", \"gastos_material\", \"gastos_personal\", \"gastos_publicidad\", \"gastos_electricos\"])\n"
   ]
  },
  {
   "cell_type": "code",
   "execution_count": 21,
   "metadata": {},
   "outputs": [
    {
     "name": "stdout",
     "output_type": "stream",
     "text": [
      "      tienda      mes  ventas  gastos_material  gastos_personal  \\\n",
      "0  Microsoft    enero   65795            12555            25892   \n",
      "1  Microsoft  febrero   50860             8073            23561   \n",
      "2  Microsoft    marzo  126820             6021            46854   \n",
      "3  Microsoft    abril  104886            16653            26184   \n",
      "4  Microsoft     mayo   56265            15805            39483   \n",
      "\n",
      "   gastos_publicidad  gastos_electricos  \n",
      "0               4722               2698  \n",
      "1               6314               4160  \n",
      "2               6157               6097  \n",
      "3               8915               6737  \n",
      "4               5625               2854  \n"
     ]
    }
   ],
   "source": [
    "# Mostrar las primeras 5 filas del DataFrame\n",
    "print(df.head())"
   ]
  },
  {
   "cell_type": "markdown",
   "metadata": {},
   "source": [
    "### 1. Cálculo de Totales\n",
    "#### A nivel global (sumando todas las tiendas):\n",
    "- Total de ingresos mensuales.\n",
    "- Total de cada tipo de gasto mensual.\n",
    "- Beneficio mensual total (beneficio = ingresos - gastos)."
   ]
  },
  {
   "cell_type": "code",
   "execution_count": 22,
   "metadata": {},
   "outputs": [
    {
     "name": "stdout",
     "output_type": "stream",
     "text": [
      "Total de ingresos\n",
      "6060420\n",
      "---------------\n",
      "Total de gastos\n",
      "gastos_material       765316\n",
      "gastos_personal      2173388\n",
      "gastos_publicidad     398817\n",
      "gastos_electricos     272301\n",
      "dtype: int64\n",
      "---------------\n",
      "Gasto total\n",
      "3609822\n",
      "---------------\n",
      "Beneficio Total\n",
      "2450598\n",
      "---------------\n"
     ]
    }
   ],
   "source": [
    "# Total de ingresos\n",
    "print('Total de ingresos')\n",
    "print(df['ventas'].sum())\n",
    "print(\"---------------\")\n",
    "\n",
    "# Total de cada gasto \n",
    "print('Total de gastos')\n",
    "print(df[columnas_tiendas[1:]].sum())\n",
    "print(\"---------------\")\n",
    "\n",
    "# Gasto total\n",
    "print('Gasto total')\n",
    "print(df[columnas_tiendas[1:]].sum().sum())\n",
    "print(\"---------------\")\n",
    "\n",
    "# Beneficio mensual de cada tienda (beneficio = ingresos - gastos)\n",
    "df['beneficio'] = df['ventas'] - df[columnas_tiendas[1:]].sum(axis=1)\n",
    "print('Beneficio Total')\n",
    "print(df['beneficio'].sum())\n",
    "print(\"---------------\")\n"
   ]
  },
  {
   "cell_type": "markdown",
   "metadata": {},
   "source": [
    "##### 📝 Conclusión: \n",
    "1. Ingresos y gastos:\n",
    "- Los ingresos totales son 6.060.420.\n",
    "- Los gastos totales suman 3.609.822.\n",
    "2. Principales gastos:\n",
    "- Personal es el mayor gasto con 2.173.388.\n",
    "- Electricidad es el menor gasto en comparación con el resto con 272.301.\n",
    "3. Beneficio:\n",
    "- El beneficio total es de 2.450.598.\n"
   ]
  },
  {
   "cell_type": "markdown",
   "metadata": {},
   "source": [
    "#### A nivel de cada tienda:\n",
    "- Ingresos mensuales de cada tienda.\n",
    "- Total de cada tipo de gasto mensual por tienda.\n",
    "- Beneficio mensual por tienda."
   ]
  },
  {
   "cell_type": "code",
   "execution_count": 23,
   "metadata": {},
   "outputs": [
    {
     "name": "stdout",
     "output_type": "stream",
     "text": [
      "Ingresos mensuales de cada tienda\n",
      "tienda\n",
      "Amazon       1245459\n",
      "Apple        1244514\n",
      "Google       1181351\n",
      "Microsoft    1123211\n",
      "OpenAI       1265885\n",
      "Name: ventas, dtype: int64\n",
      "---------------\n"
     ]
    }
   ],
   "source": [
    "# Ingresos mensuales de cada tienda\n",
    "print('Ingresos mensuales de cada tienda')\n",
    "print(df.groupby(['tienda'])['ventas'].sum())\n",
    "print(\"---------------\")\n"
   ]
  },
  {
   "cell_type": "code",
   "execution_count": 37,
   "metadata": {},
   "outputs": [
    {
     "name": "stdout",
     "output_type": "stream",
     "text": [
      "Gastos mensuales de cada tienda\n",
      "           gastos_material  gastos_personal  gastos_publicidad  \\\n",
      "tienda                                                           \n",
      "Amazon              159834           428878              79757   \n",
      "Apple               162372           399977              76025   \n",
      "Google              131168           470780              78431   \n",
      "Microsoft           163648           433621              79550   \n",
      "OpenAI              148294           440132              85054   \n",
      "\n",
      "           gastos_electricos  \n",
      "tienda                        \n",
      "Amazon                 58684  \n",
      "Apple                  55971  \n",
      "Google                 52534  \n",
      "Microsoft              54880  \n",
      "OpenAI                 50232  \n",
      "---------------\n"
     ]
    }
   ],
   "source": [
    "# Gastos mensuales de cada tienda\n",
    "print('Gastos mensuales de cada tienda')\n",
    "print(df.groupby(['tienda'])[columnas_tiendas[1:]].sum())\n",
    "print(\"---------------\")"
   ]
  },
  {
   "cell_type": "code",
   "execution_count": 35,
   "metadata": {},
   "outputs": [
    {
     "name": "stdout",
     "output_type": "stream",
     "text": [
      "Beneficio mensual de cada tienda\n",
      "mes        abril  agosto  diciembre  enero  febrero  julio  junio  marzo  \\\n",
      "tienda                                                                     \n",
      "Amazon     59326   73495      42124  21303    73515  20616  34647  17123   \n",
      "Apple      41435    1780      16677  70098    64977  45868  55365  -3426   \n",
      "Google     54785   60309      72098  53436    15524  90603  36013  -6437   \n",
      "Microsoft  46397   82068      19694  19928     8752  36552  60104  61691   \n",
      "OpenAI     63530   56750      33161  57007    79335  49261   2194  14381   \n",
      "\n",
      "mes         mayo  noviembre  octubre  septiembre  \n",
      "tienda                                            \n",
      "Amazon     25143      43276    92550       15188  \n",
      "Apple      53006      82360    44246       77783  \n",
      "Google    -10182      -1949     8310       75928  \n",
      "Microsoft  -7502     -10714    40161       34381  \n",
      "OpenAI     26597      66295    24293       69369  \n",
      "---------------\n"
     ]
    }
   ],
   "source": [
    "# Beneficio mensual de cada tienda\n",
    "print('Beneficio mensual de cada tienda')\n",
    "beneficio_mensual_tienda = df.groupby(['tienda', 'mes'])['beneficio'].sum().unstack()\n",
    "print(beneficio_mensual_tienda)\n",
    "print(\"---------------\")"
   ]
  },
  {
   "cell_type": "markdown",
   "metadata": {},
   "source": [
    "##### 📝 Conclusión:\n",
    " 1. Ingresos mensuales por tienda: \n",
    "\n",
    " - OpenAI es la tienda con mayores ingresos con 1.265.885.\n",
    "\n",
    " - Microsoft es la tienda con menores ingresos con 1.123.211.\n",
    "\n",
    " - El resto de tiendas están en un rango similar\n",
    "\n",
    "\n",
    " 2. Gastos por tienda:\n",
    "\n",
    " - Gasto en material\n",
    "\n",
    "\t - Microsoft es la que mas gasta en material con 163.648.\n",
    "\t - Google la que menos gasta en material con 131.168.\n",
    "\n",
    "- Gasto en personal:\n",
    "\t- Google es la que mas gasta en personal con 470.780.\n",
    "\t- Apple es la que menos gasta en personal con 399.977.\n",
    "\n",
    "- Gasto en publicidad:\n",
    "\t- OpenAI es la que mas gasta en publicidad con 85.054.\n",
    "\t- Apple es la que menos gasta en publicidad con 76.025.\n",
    "\n",
    "- Gasto en electricidad:\n",
    "\t- Amazon es la que mas gasta en electricidad con 58.684.\n",
    "\t- OpenAI es la que menos gasta en electricidad con 50.232.\n",
    "\n",
    "3. Beneficios mensuales por tienda\n",
    "\n",
    "- Meses con más y menos beneficio:\n",
    "\t- Mejor mes global: julio parece ser un mes fuerte para la mayoría de las empresas en términos generales.\n",
    "\t- Peor mes global: marzo, con pérdidas para Google y Apple y beneficios bajos en general.\n"
   ]
  },
  {
   "cell_type": "markdown",
   "metadata": {},
   "source": [
    "### 2. Análisis de los Meses Clave\n",
    "\n",
    "#### A nivel global:\n",
    "- Mes con mayores ingresos y mes con menores ingresos.\n",
    "- Mes con mayor beneficio y mes con menor beneficio."
   ]
  },
  {
   "cell_type": "code",
   "execution_count": 26,
   "metadata": {},
   "outputs": [
    {
     "name": "stdout",
     "output_type": "stream",
     "text": [
      "Mes con mayores ingresos:\n",
      "abril con 586339\n",
      "---------------\n",
      "Mes con menores ingresos:\n",
      "mayo con 365024\n",
      "---------------\n",
      "Mes con mayores beneficio:\n",
      "agosto con 274402\n",
      "----------------\n",
      "Mes con menores beneficio:\n",
      "marzo con 83332\n"
     ]
    }
   ],
   "source": [
    "# Mes con mayores ingresos y mes con menores ingresos\n",
    "print('Mes con mayores ingresos:')\n",
    "mes_max = df.groupby(['mes'])['ventas'].sum().idxmax()\n",
    "valor_max = df.groupby(['mes'])['ventas'].sum().max()\n",
    "print(f\"{mes_max} con {valor_max}\")\n",
    "print(\"---------------\")\n",
    "\n",
    "print('Mes con menores ingresos:')\n",
    "mes_min = df.groupby(['mes'])['ventas'].sum().idxmin()\n",
    "valor_min = df.groupby(['mes'])['ventas'].sum().min()\n",
    "print(f\"{mes_min} con {valor_min}\")\n",
    "\n",
    "print(\"---------------\")\n",
    "print('Mes con mayores beneficio:')\n",
    "mes_max = df.groupby(['mes'])['beneficio'].sum().idxmax()\n",
    "valor_max = df.groupby(['mes'])['beneficio'].sum().max()\n",
    "print(f\"{mes_max} con {valor_max}\")\n",
    "\n",
    "print(\"----------------\")\n",
    "print('Mes con menores beneficio:')\n",
    "mes_min = df.groupby(['mes'])['beneficio'].sum().idxmin()\n",
    "valor_min = df.groupby(['mes'])['beneficio'].sum().min()\n",
    "print(f\"{mes_min} con {valor_min}\")"
   ]
  },
  {
   "cell_type": "markdown",
   "metadata": {},
   "source": [
    "\n",
    "#### A nivel de cada tienda:\n",
    "- Mes con mayores ingresos y mes con menores ingresos por tienda.\n",
    "- Mes con mayor beneficio y mes con menor beneficio por tienda."
   ]
  },
  {
   "cell_type": "code",
   "execution_count": 27,
   "metadata": {},
   "outputs": [
    {
     "name": "stdout",
     "output_type": "stream",
     "text": [
      "A nivel de tienda\n",
      "Mes con mayores ingresos:\n",
      "       tienda        mes  ventas\n",
      "57     Amazon    octubre  142067\n",
      "22      Apple  noviembre  135305\n",
      "42     Google      julio  146276\n",
      "7   Microsoft     agosto  137498\n",
      "25     OpenAI    febrero  143016\n"
     ]
    }
   ],
   "source": [
    "print(\"A nivel de tienda\")\n",
    "print('Mes con mayores ingresos:')\n",
    "idx_max = df.groupby(\"tienda\")[\"ventas\"].idxmax()\n",
    "tiendas_mes_max = df.loc[idx_max, [\"tienda\", \"mes\", \"ventas\"]]\n",
    "print(tiendas_mes_max)\n"
   ]
  },
  {
   "cell_type": "code",
   "execution_count": 28,
   "metadata": {},
   "outputs": [
    {
     "name": "stdout",
     "output_type": "stream",
     "text": [
      "Mes con menores ingresos:\n",
      "       tienda      mes  ventas\n",
      "54     Amazon    julio   67159\n",
      "14      Apple    marzo   50769\n",
      "40     Google     mayo   53890\n",
      "1   Microsoft  febrero   50860\n",
      "29     OpenAI    junio   52747\n"
     ]
    }
   ],
   "source": [
    "print('Mes con menores ingresos:')\n",
    "idx_min = df.groupby(\"tienda\")[\"ventas\"].idxmin()\n",
    "tiendas_mes_min = df.loc[idx_min, [\"tienda\", \"mes\", \"ventas\"]]\n",
    "print(tiendas_mes_min)"
   ]
  },
  {
   "cell_type": "code",
   "execution_count": 29,
   "metadata": {},
   "outputs": [
    {
     "name": "stdout",
     "output_type": "stream",
     "text": [
      "Mes con mayores beneficio:\n",
      "       tienda        mes  beneficio\n",
      "57     Amazon    octubre      92550\n",
      "22      Apple  noviembre      82360\n",
      "42     Google      julio      90603\n",
      "7   Microsoft     agosto      82068\n",
      "25     OpenAI    febrero      79335\n"
     ]
    }
   ],
   "source": [
    "print('Mes con mayores beneficio:')\n",
    "idx_max = df.groupby(\"tienda\")[\"beneficio\"].idxmax()\n",
    "tiendas_mes_max = df.loc[idx_max, [\"tienda\", \"mes\", \"beneficio\"]]\n",
    "print(tiendas_mes_max)"
   ]
  },
  {
   "cell_type": "code",
   "execution_count": 30,
   "metadata": {},
   "outputs": [
    {
     "name": "stdout",
     "output_type": "stream",
     "text": [
      "Mes con menores beneficio:\n",
      "       tienda         mes  beneficio\n",
      "56     Amazon  septiembre      15188\n",
      "14      Apple       marzo      -3426\n",
      "40     Google        mayo     -10182\n",
      "10  Microsoft   noviembre     -10714\n",
      "29     OpenAI       junio       2194\n"
     ]
    }
   ],
   "source": [
    "print('Mes con menores beneficio:')\n",
    "idx_min = df.groupby(\"tienda\")[\"beneficio\"].idxmin()\n",
    "tiendas_mes_min = df.loc[idx_min, [\"tienda\", \"mes\", \"beneficio\"]]\n",
    "print(tiendas_mes_min)"
   ]
  },
  {
   "cell_type": "markdown",
   "metadata": {},
   "source": [
    "### 3. Estadísticas Mensuales\n",
    "\n",
    "#### A nivel global:\n",
    "- Media, mediana, moda y desviación típica de los ingresos mensuales.\n",
    "- Media, mediana, moda y desviación típica del beneficio mensual."
   ]
  },
  {
   "cell_type": "code",
   "execution_count": 31,
   "metadata": {},
   "outputs": [
    {
     "name": "stdout",
     "output_type": "stream",
     "text": [
      "A nivel global:\n",
      "--------------\n",
      "Ingresos mensuales\n",
      "Media global de ventas: 101007.0\n",
      "Mediana global de ventas: 109442.5\n",
      "Moda global de ventas: [50769, 50860, 52747, 53890, 55311, 56265, 58792, 60627, 61394, 65795, 66023, 67159, 68431, 73483, 73897, 75658, 78693, 81551, 85773, 85920, 87194, 91090, 91606, 93001, 94131, 98555, 103707, 104886, 106886, 109150, 109735, 110263, 112955, 114820, 114925, 115725, 116803, 117121, 117221, 117435, 117969, 118148, 119092, 119479, 121932, 123969, 126552, 126820, 130038, 130077, 132386, 133104, 134478, 134654, 135305, 137313, 137498, 142067, 143016, 146276]\n",
      "Desviación global de ventas: 28577.01\n",
      "--------------\n",
      "Beneficio mensuales\n",
      "Media global de beneficio: 40843.3\n",
      "Mediana global de beneficio: 42700.0\n",
      "Moda global de beneficio: [-10714, -10182, -7502, -6437, -3426, -1949, 1780, 2194, 8310, 8752, 14381, 15188, 15524, 16677, 17123, 19694, 19928, 20616, 21303, 24293, 25143, 26597, 33161, 34381, 34647, 36013, 36552, 40161, 41435, 42124, 43276, 44246, 45868, 46397, 49261, 53006, 53436, 54785, 55365, 56750, 57007, 59326, 60104, 60309, 61691, 63530, 64977, 66295, 69369, 70098, 72098, 73495, 73515, 75928, 77783, 79335, 82068, 82360, 90603, 92550]\n",
      "Desviación global de beneficio: 28083.81\n"
     ]
    }
   ],
   "source": [
    "print(\"A nivel global:\")\n",
    "print(\"--------------\")\n",
    "print(\"Ingresos mensuales\") \n",
    "media_global = df[\"ventas\"].mean()\n",
    "print(\"Media global de ventas:\", media_global)\n",
    "\n",
    "mediana_global = df[\"ventas\"].median()\n",
    "print(\"Mediana global de ventas:\", mediana_global)\n",
    "\n",
    "moda_global = df[\"ventas\"].mode()\n",
    "print(\"Moda global de ventas:\", list(moda_global))\n",
    "\n",
    "desviacion_global = df[\"ventas\"].std()\n",
    "print(\"Desviación global de ventas:\",  round(desviacion_global,2))\n",
    "\n",
    "print(\"--------------\")\n",
    "print(\"Beneficio mensuales\")\n",
    "media_beneficio_global = df[\"beneficio\"].mean()\n",
    "print(\"Media global de beneficio:\", media_beneficio_global)\n",
    "\n",
    "mediana_beneficio_global = df[\"beneficio\"].median()\n",
    "print(\"Mediana global de beneficio:\", mediana_beneficio_global)\n",
    "\n",
    "moda_beneficio_global = df[\"beneficio\"].mode()\n",
    "print(\"Moda global de beneficio:\", list(moda_beneficio_global))\n",
    "\n",
    "desviacion_beneficio_global = df[\"beneficio\"].std()\n",
    "print(\"Desviación global de beneficio:\", round(desviacion_beneficio_global,2))\n",
    "\n"
   ]
  },
  {
   "cell_type": "markdown",
   "metadata": {},
   "source": [
    "##### 📝 Conclusión: "
   ]
  },
  {
   "cell_type": "markdown",
   "metadata": {},
   "source": [
    "\n",
    "#### A nivel de cada tienda:\n",
    "- Media, mediana, moda y desviación típica de los ingresos por tienda.\n",
    "- Media, mediana, moda y desviación típica del beneficio por tienda."
   ]
  },
  {
   "cell_type": "code",
   "execution_count": 32,
   "metadata": {},
   "outputs": [
    {
     "name": "stdout",
     "output_type": "stream",
     "text": [
      "A nivel de tienda:\n",
      "--------------\n",
      "Ingresos mensuales\n",
      "Media de ventas por tienda: tienda\n",
      "Amazon       103788.25\n",
      "Apple        103709.50\n",
      "Google        98445.92\n",
      "Microsoft     93600.92\n",
      "OpenAI       105490.42\n",
      "Name: ventas, dtype: float64\n",
      "Mediana de ventas por tienda: tienda\n",
      "Amazon       107838.0\n",
      "Apple        113887.5\n",
      "Google       104204.5\n",
      "Microsoft     92610.5\n",
      "OpenAI       112437.5\n",
      "Name: ventas, dtype: float64\n",
      "Moda de ventas por tienda: tienda       \n",
      "Amazon     0      67159\n",
      "           1      73483\n",
      "           2      73897\n",
      "           3      85920\n",
      "           4      93001\n",
      "           5      98555\n",
      "           6     117121\n",
      "           7     118148\n",
      "           8     119479\n",
      "           9     126552\n",
      "           10    130077\n",
      "           11    142067\n",
      "Apple      0      50769\n",
      "           1      55311\n",
      "           2      78693\n",
      "           3     103707\n",
      "           4     109735\n",
      "           5     112955\n",
      "           6     114820\n",
      "           7     114925\n",
      "           8     117221\n",
      "           9     117969\n",
      "           10    133104\n",
      "           11    135305\n",
      "Google     0      53890\n",
      "           1      58792\n",
      "           2      60627\n",
      "           3      61394\n",
      "           4      81551\n",
      "           5      91606\n",
      "           6     116803\n",
      "           7     119092\n",
      "           8     123969\n",
      "           9     130038\n",
      "           10    137313\n",
      "           11    146276\n",
      "Microsoft  0      50860\n",
      "           1      56265\n",
      "           2      65795\n",
      "           3      66023\n",
      "           4      87194\n",
      "           5      91090\n",
      "           6      94131\n",
      "           7     104886\n",
      "           8     110263\n",
      "           9     126820\n",
      "           10    132386\n",
      "           11    137498\n",
      "OpenAI     0      52747\n",
      "           1      68431\n",
      "           2      75658\n",
      "           3      85773\n",
      "           4     106886\n",
      "           5     109150\n",
      "           6     115725\n",
      "           7     117435\n",
      "           8     121932\n",
      "           9     134478\n",
      "           10    134654\n",
      "           11    143016\n",
      "Name: ventas, dtype: int64\n",
      "Desviación de ventas por tienda: tienda\n",
      "Amazon       25084.11\n",
      "Apple        27617.78\n",
      "Google       34250.55\n",
      "Microsoft    29759.37\n",
      "OpenAI       28708.67\n",
      "Name: ventas, dtype: float64\n"
     ]
    }
   ],
   "source": [
    "print(\"A nivel de tienda:\")\n",
    "print(\"--------------\")\n",
    "print(\"Ingresos mensuales\")\n",
    "media_tienda = df.groupby(\"tienda\")[\"ventas\"].mean()\n",
    "print(\"Media de ventas por tienda:\", round(media_tienda, 2))\n",
    "\n",
    "mediana_tienda = df.groupby(\"tienda\")[\"ventas\"].median()\n",
    "print(\"Mediana de ventas por tienda:\", mediana_tienda)\n",
    "\n",
    "moda_tienda = df.groupby(\"tienda\")[\"ventas\"].apply(lambda x: x.mode())\n",
    "print(\"Moda de ventas por tienda:\", moda_tienda)\n",
    "\n",
    "desviacion_tienda = df.groupby(\"tienda\")[\"ventas\"].std()\n",
    "print(\"Desviación de ventas por tienda:\", round(desviacion_tienda, 2))\n",
    "\n"
   ]
  },
  {
   "cell_type": "code",
   "execution_count": 33,
   "metadata": {},
   "outputs": [
    {
     "name": "stdout",
     "output_type": "stream",
     "text": [
      "--------------\n",
      "Beneficio mensuales\n",
      "Media de beneficio por tienda: tienda\n",
      "Amazon       43192.166667\n",
      "Apple        45847.416667\n",
      "Google       37369.833333\n",
      "Microsoft    32626.000000\n",
      "OpenAI       45181.083333\n",
      "Name: beneficio, dtype: float64\n",
      "Mediana de beneficio por tienda: tienda\n",
      "Amazon       38385.5\n",
      "Apple        49437.0\n",
      "Google       44724.5\n",
      "Microsoft    35466.5\n",
      "OpenAI       53005.5\n",
      "Name: beneficio, dtype: float64\n",
      "Moda de beneficio por tienda: tienda       \n",
      "Amazon     0     15188\n",
      "           1     17123\n",
      "           2     20616\n",
      "           3     21303\n",
      "           4     25143\n",
      "           5     34647\n",
      "           6     42124\n",
      "           7     43276\n",
      "           8     59326\n",
      "           9     73495\n",
      "           10    73515\n",
      "           11    92550\n",
      "Apple      0     -3426\n",
      "           1      1780\n",
      "           2     16677\n",
      "           3     41435\n",
      "           4     44246\n",
      "           5     45868\n",
      "           6     53006\n",
      "           7     55365\n",
      "           8     64977\n",
      "           9     70098\n",
      "           10    77783\n",
      "           11    82360\n",
      "Google     0    -10182\n",
      "           1     -6437\n",
      "           2     -1949\n",
      "           3      8310\n",
      "           4     15524\n",
      "           5     36013\n",
      "           6     53436\n",
      "           7     54785\n",
      "           8     60309\n",
      "           9     72098\n",
      "           10    75928\n",
      "           11    90603\n",
      "Microsoft  0    -10714\n",
      "           1     -7502\n",
      "           2      8752\n",
      "           3     19694\n",
      "           4     19928\n",
      "           5     34381\n",
      "           6     36552\n",
      "           7     40161\n",
      "           8     46397\n",
      "           9     60104\n",
      "           10    61691\n",
      "           11    82068\n",
      "OpenAI     0      2194\n",
      "           1     14381\n",
      "           2     24293\n",
      "           3     26597\n",
      "           4     33161\n",
      "           5     49261\n",
      "           6     56750\n",
      "           7     57007\n",
      "           8     63530\n",
      "           9     66295\n",
      "           10    69369\n",
      "           11    79335\n",
      "Name: beneficio, dtype: int64\n",
      "Desviación de beneficio por tienda: tienda\n",
      "Amazon       25913.89\n",
      "Apple        28109.63\n",
      "Google       35244.48\n",
      "Microsoft    28117.11\n",
      "OpenAI       24396.46\n",
      "Name: beneficio, dtype: float64\n"
     ]
    }
   ],
   "source": [
    "print(\"--------------\")\n",
    "print(\"Beneficio mensuales\")\n",
    "media_beneficio_tienda = df.groupby(\"tienda\")[\"beneficio\"].mean()\n",
    "print(\"Media de beneficio por tienda:\", media_beneficio_tienda)\n",
    "\n",
    "mediana_beneficio_tienda = df.groupby(\"tienda\")[\"beneficio\"].median()\n",
    "print(\"Mediana de beneficio por tienda:\", mediana_beneficio_tienda)\n",
    "\n",
    "moda_beneficio_tienda = df.groupby(\"tienda\")[\"beneficio\"].apply(lambda x: x.mode())\n",
    "print(\"Moda de beneficio por tienda:\", moda_beneficio_tienda)\n",
    "\n",
    "desviacion_beneficio_tienda = df.groupby(\"tienda\")[\"beneficio\"].std()\n",
    "print(\"Desviación de beneficio por tienda:\", round(desviacion_beneficio_tienda, 2))\n"
   ]
  },
  {
   "cell_type": "markdown",
   "metadata": {},
   "source": [
    "##### 📝 Conclusión: \n",
    "1. Analisis por ingresos:\n",
    "- Media y mediana muy similiar (Media: 101.007 y Mediana: 101.007) lo que indica que la mitad de los meses tienen ventas por encima y la otra mitad por debajo de la mediana\n",
    "- Desviación estándar: 28.577,01, lo que indica una variabilidad moderada en los ingresos mensuales.\n",
    "\n",
    "2. Analisis de beneficios:\n",
    "- Media y mediana muy similar (Media: 40.843,3 y Mediana: 42.700) lo que indica que la distribución no está muy sesgada.\n",
    "- Desviación estándar: 28.083,81, lo que indica que los beneficios fluctúan de manera considerable.\n"
   ]
  },
  {
   "cell_type": "markdown",
   "metadata": {},
   "source": [
    "### 4. Conclusiones\n",
    "- Explicar las conclusiones extraídas de cada análisis.\n",
    "- Comparar los resultados entre tiendas y determinar qué tiendas tienen mejor rendimiento.\n",
    "- Identificar patrones o tendencias en las ventas y los gastos tanto a nivel global como por tienda."
   ]
  },
  {
   "cell_type": "markdown",
   "metadata": {},
   "source": [
    "#### 4.1 Comparativa entre tiendas\n",
    "| Tienda  | Ingresos Mensuales | Beneficio Mensual |\n",
    "|---------|--------------------|-------------------|\n",
    "| Microsoft | 1.123.211        | 391.512           |\n",
    "| Apple  | 1.244.514           | 550.169           |\n",
    "| OpenAI | 1.265.885           | 542.173           |\n",
    "| Google | 1.181.351           | 448.438           |\n",
    "| Amazon | 1.245.459           | 518.306           |\n",
    "\n",
    "- Apple y OpenAI son las tiendas más rentables, mientras que Microsoft es la que menos beneficios genera.\n",
    "\n",
    "#### 4.2 Tendencias y patrones\n",
    "- A nivel global:\n",
    "    - Ingresos y beneficios tienen una variabilidad moderada, lo que indica que hay meses con ciertas fluctuaciones\n",
    "    - Algunas tiendas tienen meses con perdidas, esto genera fluctuaciones entre la media y mediana de ingresos.\n",
    "- Por tiendas:\n",
    "    - OpenAI es la mas estable, ya que no tiene meses con pérdidas y un crecimiento constante.\n",
    "    - Google y Microsoft tienen meses con perdidas.\n",
    "    - Amazon y Apple tienen meses con grandes fluctuaciones, con meses muy buenos y meses muy malos."
   ]
  }
 ],
 "metadata": {
  "kernelspec": {
   "display_name": "Python 3",
   "language": "python",
   "name": "python3"
  },
  "language_info": {
   "codemirror_mode": {
    "name": "ipython",
    "version": 3
   },
   "file_extension": ".py",
   "mimetype": "text/x-python",
   "name": "python",
   "nbconvert_exporter": "python",
   "pygments_lexer": "ipython3",
   "version": "3.8.10"
  }
 },
 "nbformat": 4,
 "nbformat_minor": 2
}
