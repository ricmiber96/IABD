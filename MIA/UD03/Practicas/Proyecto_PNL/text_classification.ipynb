{
 "cells": [
  {
   "cell_type": "code",
   "execution_count": 26,
   "metadata": {},
   "outputs": [],
   "source": [
    "import tensorflow as tf\n",
    "from tensorflow.keras.models import Sequential\n",
    "from tensorflow.keras.layers import Dense\n",
    "from tensorflow.keras.optimizers import Adam\n",
    "from tensorflow.keras.losses import SparseCategoricalCrossentropy\n",
    "from sklearn.model_selection import train_test_split\n",
    "from sklearn.preprocessing import StandardScaler\n",
    "import numpy as np\n",
    "import pandas as pd\n",
    "import re\n",
    "from sklearn.model_selection import train_test_split\n",
    "from tensorflow.keras.preprocessing.text import Tokenizer\n",
    "from tensorflow.keras.preprocessing.sequence import pad_sequences\n",
    "from tensorflow.keras.models import Sequential\n",
    "from tensorflow.keras.layers import Embedding, GlobalAveragePooling1D, Dense"
   ]
  },
  {
   "cell_type": "code",
   "execution_count": 9,
   "metadata": {},
   "outputs": [],
   "source": [
    "df = pd.read_csv('data.csv')\n"
   ]
  },
  {
   "cell_type": "code",
   "execution_count": 14,
   "metadata": {},
   "outputs": [
    {
     "data": {
      "text/plain": [
       "(2225, 2)"
      ]
     },
     "execution_count": 14,
     "metadata": {},
     "output_type": "execute_result"
    }
   ],
   "source": [
    "df.shape"
   ]
  },
  {
   "cell_type": "code",
   "execution_count": 10,
   "metadata": {},
   "outputs": [
    {
     "data": {
      "text/html": [
       "<div>\n",
       "<style scoped>\n",
       "    .dataframe tbody tr th:only-of-type {\n",
       "        vertical-align: middle;\n",
       "    }\n",
       "\n",
       "    .dataframe tbody tr th {\n",
       "        vertical-align: top;\n",
       "    }\n",
       "\n",
       "    .dataframe thead th {\n",
       "        text-align: right;\n",
       "    }\n",
       "</style>\n",
       "<table border=\"1\" class=\"dataframe\">\n",
       "  <thead>\n",
       "    <tr style=\"text-align: right;\">\n",
       "      <th></th>\n",
       "      <th>Text</th>\n",
       "      <th>Label</th>\n",
       "    </tr>\n",
       "  </thead>\n",
       "  <tbody>\n",
       "    <tr>\n",
       "      <th>0</th>\n",
       "      <td>Budget to set scene for election\\n \\n Gordon B...</td>\n",
       "      <td>0</td>\n",
       "    </tr>\n",
       "    <tr>\n",
       "      <th>1</th>\n",
       "      <td>Army chiefs in regiments decision\\n \\n Militar...</td>\n",
       "      <td>0</td>\n",
       "    </tr>\n",
       "    <tr>\n",
       "      <th>2</th>\n",
       "      <td>Howard denies split over ID cards\\n \\n Michael...</td>\n",
       "      <td>0</td>\n",
       "    </tr>\n",
       "    <tr>\n",
       "      <th>3</th>\n",
       "      <td>Observers to monitor UK election\\n \\n Minister...</td>\n",
       "      <td>0</td>\n",
       "    </tr>\n",
       "    <tr>\n",
       "      <th>4</th>\n",
       "      <td>Kilroy names election seat target\\n \\n Ex-chat...</td>\n",
       "      <td>0</td>\n",
       "    </tr>\n",
       "  </tbody>\n",
       "</table>\n",
       "</div>"
      ],
      "text/plain": [
       "                                                Text  Label\n",
       "0  Budget to set scene for election\\n \\n Gordon B...      0\n",
       "1  Army chiefs in regiments decision\\n \\n Militar...      0\n",
       "2  Howard denies split over ID cards\\n \\n Michael...      0\n",
       "3  Observers to monitor UK election\\n \\n Minister...      0\n",
       "4  Kilroy names election seat target\\n \\n Ex-chat...      0"
      ]
     },
     "execution_count": 10,
     "metadata": {},
     "output_type": "execute_result"
    }
   ],
   "source": [
    "df.head()"
   ]
  },
  {
   "cell_type": "code",
   "execution_count": 11,
   "metadata": {},
   "outputs": [
    {
     "name": "stdout",
     "output_type": "stream",
     "text": [
      "<class 'pandas.core.frame.DataFrame'>\n",
      "RangeIndex: 2225 entries, 0 to 2224\n",
      "Data columns (total 2 columns):\n",
      " #   Column  Non-Null Count  Dtype \n",
      "---  ------  --------------  ----- \n",
      " 0   Text    2225 non-null   object\n",
      " 1   Label   2225 non-null   int64 \n",
      "dtypes: int64(1), object(1)\n",
      "memory usage: 34.9+ KB\n"
     ]
    }
   ],
   "source": [
    "df.info()"
   ]
  },
  {
   "cell_type": "code",
   "execution_count": 15,
   "metadata": {},
   "outputs": [
    {
     "data": {
      "text/plain": [
       "Text     0\n",
       "Label    0\n",
       "dtype: int64"
      ]
     },
     "execution_count": 15,
     "metadata": {},
     "output_type": "execute_result"
    }
   ],
   "source": [
    "df.isnull().sum()"
   ]
  },
  {
   "cell_type": "markdown",
   "metadata": {},
   "source": [
    "###  Limpieza de los textos"
   ]
  },
  {
   "cell_type": "code",
   "execution_count": null,
   "metadata": {},
   "outputs": [
    {
     "data": {
      "text/html": [
       "<div>\n",
       "<style scoped>\n",
       "    .dataframe tbody tr th:only-of-type {\n",
       "        vertical-align: middle;\n",
       "    }\n",
       "\n",
       "    .dataframe tbody tr th {\n",
       "        vertical-align: top;\n",
       "    }\n",
       "\n",
       "    .dataframe thead th {\n",
       "        text-align: right;\n",
       "    }\n",
       "</style>\n",
       "<table border=\"1\" class=\"dataframe\">\n",
       "  <thead>\n",
       "    <tr style=\"text-align: right;\">\n",
       "      <th></th>\n",
       "      <th>Text</th>\n",
       "      <th>Label</th>\n",
       "      <th>text_cleaned</th>\n",
       "    </tr>\n",
       "  </thead>\n",
       "  <tbody>\n",
       "    <tr>\n",
       "      <th>0</th>\n",
       "      <td>Budget to set scene for election\\n \\n Gordon B...</td>\n",
       "      <td>0</td>\n",
       "      <td>budget to set scene for election gordon brown ...</td>\n",
       "    </tr>\n",
       "    <tr>\n",
       "      <th>1</th>\n",
       "      <td>Army chiefs in regiments decision\\n \\n Militar...</td>\n",
       "      <td>0</td>\n",
       "      <td>army chiefs in regiments decision military chi...</td>\n",
       "    </tr>\n",
       "    <tr>\n",
       "      <th>2</th>\n",
       "      <td>Howard denies split over ID cards\\n \\n Michael...</td>\n",
       "      <td>0</td>\n",
       "      <td>howard denies split over id cards michael howa...</td>\n",
       "    </tr>\n",
       "    <tr>\n",
       "      <th>3</th>\n",
       "      <td>Observers to monitor UK election\\n \\n Minister...</td>\n",
       "      <td>0</td>\n",
       "      <td>observers to monitor uk election ministers wil...</td>\n",
       "    </tr>\n",
       "    <tr>\n",
       "      <th>4</th>\n",
       "      <td>Kilroy names election seat target\\n \\n Ex-chat...</td>\n",
       "      <td>0</td>\n",
       "      <td>kilroy names election seat target exchat show ...</td>\n",
       "    </tr>\n",
       "  </tbody>\n",
       "</table>\n",
       "</div>"
      ],
      "text/plain": [
       "                                                Text  Label  \\\n",
       "0  Budget to set scene for election\\n \\n Gordon B...      0   \n",
       "1  Army chiefs in regiments decision\\n \\n Militar...      0   \n",
       "2  Howard denies split over ID cards\\n \\n Michael...      0   \n",
       "3  Observers to monitor UK election\\n \\n Minister...      0   \n",
       "4  Kilroy names election seat target\\n \\n Ex-chat...      0   \n",
       "\n",
       "                                        text_cleaned  \n",
       "0  budget to set scene for election gordon brown ...  \n",
       "1  army chiefs in regiments decision military chi...  \n",
       "2  howard denies split over id cards michael howa...  \n",
       "3  observers to monitor uk election ministers wil...  \n",
       "4  kilroy names election seat target exchat show ...  "
      ]
     },
     "execution_count": 16,
     "metadata": {},
     "output_type": "execute_result"
    }
   ],
   "source": [
    "import re\n",
    "def normalize_text(text):\n",
    "    text = text.lower()\n",
    "    text = re.sub('[\\s]+', ' ', text) # Remove additional spaces\n",
    "     # Eliminar puntuación\n",
    "    text = re.sub(r'[^\\w\\s]', '', text)\n",
    "    return text\n",
    "\n",
    "\n",
    "df['text_cleaned'] = df['Text'].apply(normalize_text)\n",
    "\n"
   ]
  },
  {
   "cell_type": "code",
   "execution_count": 24,
   "metadata": {},
   "outputs": [
    {
     "data": {
      "text/html": [
       "<div>\n",
       "<style scoped>\n",
       "    .dataframe tbody tr th:only-of-type {\n",
       "        vertical-align: middle;\n",
       "    }\n",
       "\n",
       "    .dataframe tbody tr th {\n",
       "        vertical-align: top;\n",
       "    }\n",
       "\n",
       "    .dataframe thead th {\n",
       "        text-align: right;\n",
       "    }\n",
       "</style>\n",
       "<table border=\"1\" class=\"dataframe\">\n",
       "  <thead>\n",
       "    <tr style=\"text-align: right;\">\n",
       "      <th></th>\n",
       "      <th>Label</th>\n",
       "      <th>text_cleaned</th>\n",
       "    </tr>\n",
       "  </thead>\n",
       "  <tbody>\n",
       "    <tr>\n",
       "      <th>0</th>\n",
       "      <td>0</td>\n",
       "      <td>budget to set scene for election gordon brown ...</td>\n",
       "    </tr>\n",
       "    <tr>\n",
       "      <th>1</th>\n",
       "      <td>0</td>\n",
       "      <td>army chiefs in regiments decision military chi...</td>\n",
       "    </tr>\n",
       "    <tr>\n",
       "      <th>2</th>\n",
       "      <td>0</td>\n",
       "      <td>howard denies split over id cards michael howa...</td>\n",
       "    </tr>\n",
       "    <tr>\n",
       "      <th>3</th>\n",
       "      <td>0</td>\n",
       "      <td>observers to monitor uk election ministers wil...</td>\n",
       "    </tr>\n",
       "    <tr>\n",
       "      <th>4</th>\n",
       "      <td>0</td>\n",
       "      <td>kilroy names election seat target exchat show ...</td>\n",
       "    </tr>\n",
       "  </tbody>\n",
       "</table>\n",
       "</div>"
      ],
      "text/plain": [
       "   Label                                       text_cleaned\n",
       "0      0  budget to set scene for election gordon brown ...\n",
       "1      0  army chiefs in regiments decision military chi...\n",
       "2      0  howard denies split over id cards michael howa...\n",
       "3      0  observers to monitor uk election ministers wil...\n",
       "4      0  kilroy names election seat target exchat show ..."
      ]
     },
     "execution_count": 24,
     "metadata": {},
     "output_type": "execute_result"
    }
   ],
   "source": [
    "df = df.drop(['Text'], axis=1)\n",
    "df.head()"
   ]
  },
  {
   "cell_type": "code",
   "execution_count": 29,
   "metadata": {},
   "outputs": [],
   "source": [
    "tokenizer = Tokenizer(num_words=5000)\n",
    "tokenizer.fit_on_texts(df['text_cleaned'])\n",
    "\n",
    "# Convertir el texto a secuencias numericas\n",
    "sequences = tokenizer.texts_to_sequences(df['text_cleaned'])\n",
    "max_length = 20\n",
    "padded_sequences = pad_sequences(sequences, maxlen= max_length, padding='post')"
   ]
  },
  {
   "cell_type": "code",
   "execution_count": 30,
   "metadata": {},
   "outputs": [],
   "source": [
    "X_train, X_test, y_train, y_test = train_test_split(padded_sequences, df['Label'], test_size=0.2, random_state=42)"
   ]
  },
  {
   "cell_type": "markdown",
   "metadata": {},
   "source": [
    "### Construcción del modelo"
   ]
  },
  {
   "cell_type": "code",
   "execution_count": 31,
   "metadata": {},
   "outputs": [],
   "source": [
    "vocab_size = len(tokenizer.word_index) +1\n",
    "embedding_dim = 100\n",
    "\n",
    "model = Sequential([\n",
    "    Embedding(input_dim=vocab_size,  output_dim=embedding_dim, input_length=max_length),\n",
    "    GlobalAveragePooling1D(),\n",
    "    Dense(128, activation='relu'),\n",
    "    Dense(64, activation='relu'),\n",
    "    Dense(32, activation='relu'),\n",
    "    Dense(16, activation='relu'),\n",
    "    Dense(5, activation='softmax')\n",
    "])"
   ]
  },
  {
   "cell_type": "code",
   "execution_count": null,
   "metadata": {},
   "outputs": [
    {
     "name": "stdout",
     "output_type": "stream",
     "text": [
      "Model: \"sequential\"\n",
      "_________________________________________________________________\n",
      " Layer (type)                Output Shape              Param #   \n",
      "=================================================================\n",
      " embedding (Embedding)       (None, 20, 100)           3457600   \n",
      "                                                                 \n",
      " global_average_pooling1d (  (None, 100)               0         \n",
      " GlobalAveragePooling1D)                                         \n",
      "                                                                 \n",
      " dense (Dense)               (None, 128)               12928     \n",
      "                                                                 \n",
      " dense_1 (Dense)             (None, 64)                8256      \n",
      "                                                                 \n",
      " dense_2 (Dense)             (None, 32)                2080      \n",
      "                                                                 \n",
      " dense_3 (Dense)             (None, 16)                528       \n",
      "                                                                 \n",
      " dense_4 (Dense)             (None, 5)                 85        \n",
      "                                                                 \n",
      "=================================================================\n",
      "Total params: 3481477 (13.28 MB)\n",
      "Trainable params: 3481477 (13.28 MB)\n",
      "Non-trainable params: 0 (0.00 Byte)\n",
      "_________________________________________________________________\n"
     ]
    }
   ],
   "source": [
    "model.compile(optimizer='adam',\n",
    "              loss='categorical_crossentropy',\n",
    "              metrics=['accuracy'])\n",
    "\n",
    "\n",
    "model.summary()"
   ]
  },
  {
   "cell_type": "code",
   "execution_count": 36,
   "metadata": {},
   "outputs": [
    {
     "name": "stdout",
     "output_type": "stream",
     "text": [
      "Epoch 1/50\n",
      "45/45 [==============================] - 2s 44ms/step - loss: 2.7752e-05 - accuracy: 1.0000 - val_loss: 2.5429 - val_accuracy: 0.6770\n",
      "Epoch 2/50\n",
      "45/45 [==============================] - 2s 42ms/step - loss: 2.6148e-05 - accuracy: 1.0000 - val_loss: 2.5536 - val_accuracy: 0.6770\n",
      "Epoch 3/50\n",
      "45/45 [==============================] - 2s 43ms/step - loss: 2.4648e-05 - accuracy: 1.0000 - val_loss: 2.5679 - val_accuracy: 0.6770\n",
      "Epoch 4/50\n",
      "45/45 [==============================] - 2s 38ms/step - loss: 2.3252e-05 - accuracy: 1.0000 - val_loss: 2.5817 - val_accuracy: 0.6742\n",
      "Epoch 5/50\n",
      "45/45 [==============================] - 2s 38ms/step - loss: 2.1995e-05 - accuracy: 1.0000 - val_loss: 2.5948 - val_accuracy: 0.6742\n",
      "Epoch 6/50\n",
      "45/45 [==============================] - 2s 41ms/step - loss: 2.0807e-05 - accuracy: 1.0000 - val_loss: 2.6049 - val_accuracy: 0.6742\n",
      "Epoch 7/50\n",
      "45/45 [==============================] - 2s 45ms/step - loss: 1.9694e-05 - accuracy: 1.0000 - val_loss: 2.6181 - val_accuracy: 0.6742\n",
      "Epoch 8/50\n",
      "45/45 [==============================] - 2s 43ms/step - loss: 1.8670e-05 - accuracy: 1.0000 - val_loss: 2.6279 - val_accuracy: 0.6770\n",
      "Epoch 9/50\n",
      "45/45 [==============================] - 2s 51ms/step - loss: 1.7715e-05 - accuracy: 1.0000 - val_loss: 2.6418 - val_accuracy: 0.6742\n",
      "Epoch 10/50\n",
      "45/45 [==============================] - 2s 46ms/step - loss: 1.6840e-05 - accuracy: 1.0000 - val_loss: 2.6524 - val_accuracy: 0.6742\n",
      "Epoch 11/50\n",
      "45/45 [==============================] - 2s 52ms/step - loss: 1.5989e-05 - accuracy: 1.0000 - val_loss: 2.6624 - val_accuracy: 0.6742\n",
      "Epoch 12/50\n",
      "45/45 [==============================] - 2s 44ms/step - loss: 1.5217e-05 - accuracy: 1.0000 - val_loss: 2.6726 - val_accuracy: 0.6742\n",
      "Epoch 13/50\n",
      "45/45 [==============================] - 2s 43ms/step - loss: 1.4488e-05 - accuracy: 1.0000 - val_loss: 2.6840 - val_accuracy: 0.6742\n",
      "Epoch 14/50\n",
      "45/45 [==============================] - 2s 41ms/step - loss: 1.3809e-05 - accuracy: 1.0000 - val_loss: 2.6958 - val_accuracy: 0.6742\n",
      "Epoch 15/50\n",
      "45/45 [==============================] - 2s 40ms/step - loss: 1.3150e-05 - accuracy: 1.0000 - val_loss: 2.7053 - val_accuracy: 0.6742\n",
      "Epoch 16/50\n",
      "45/45 [==============================] - 2s 42ms/step - loss: 1.2551e-05 - accuracy: 1.0000 - val_loss: 2.7159 - val_accuracy: 0.6742\n",
      "Epoch 17/50\n",
      "45/45 [==============================] - 2s 41ms/step - loss: 1.1985e-05 - accuracy: 1.0000 - val_loss: 2.7271 - val_accuracy: 0.6742\n",
      "Epoch 18/50\n",
      "45/45 [==============================] - 2s 41ms/step - loss: 1.1456e-05 - accuracy: 1.0000 - val_loss: 2.7357 - val_accuracy: 0.6742\n",
      "Epoch 19/50\n",
      "45/45 [==============================] - 2s 39ms/step - loss: 1.0951e-05 - accuracy: 1.0000 - val_loss: 2.7456 - val_accuracy: 0.6742\n",
      "Epoch 20/50\n",
      "45/45 [==============================] - 2s 39ms/step - loss: 1.0467e-05 - accuracy: 1.0000 - val_loss: 2.7569 - val_accuracy: 0.6742\n",
      "Epoch 21/50\n",
      "45/45 [==============================] - 2s 39ms/step - loss: 1.0015e-05 - accuracy: 1.0000 - val_loss: 2.7665 - val_accuracy: 0.6742\n",
      "Epoch 22/50\n",
      "45/45 [==============================] - 2s 42ms/step - loss: 9.5957e-06 - accuracy: 1.0000 - val_loss: 2.7775 - val_accuracy: 0.6742\n",
      "Epoch 23/50\n",
      "45/45 [==============================] - 2s 42ms/step - loss: 9.1816e-06 - accuracy: 1.0000 - val_loss: 2.7847 - val_accuracy: 0.6742\n",
      "Epoch 24/50\n",
      "45/45 [==============================] - 2s 46ms/step - loss: 8.8029e-06 - accuracy: 1.0000 - val_loss: 2.7946 - val_accuracy: 0.6742\n",
      "Epoch 25/50\n",
      "45/45 [==============================] - 2s 45ms/step - loss: 8.4428e-06 - accuracy: 1.0000 - val_loss: 2.8039 - val_accuracy: 0.6742\n",
      "Epoch 26/50\n",
      "45/45 [==============================] - 2s 43ms/step - loss: 8.0977e-06 - accuracy: 1.0000 - val_loss: 2.8119 - val_accuracy: 0.6742\n",
      "Epoch 27/50\n",
      "45/45 [==============================] - 2s 45ms/step - loss: 7.7696e-06 - accuracy: 1.0000 - val_loss: 2.8229 - val_accuracy: 0.6742\n",
      "Epoch 28/50\n",
      "45/45 [==============================] - 2s 44ms/step - loss: 7.4579e-06 - accuracy: 1.0000 - val_loss: 2.8308 - val_accuracy: 0.6742\n",
      "Epoch 29/50\n",
      "45/45 [==============================] - 2s 46ms/step - loss: 7.1636e-06 - accuracy: 1.0000 - val_loss: 2.8404 - val_accuracy: 0.6742\n",
      "Epoch 30/50\n",
      "45/45 [==============================] - 2s 41ms/step - loss: 6.8814e-06 - accuracy: 1.0000 - val_loss: 2.8490 - val_accuracy: 0.6742\n",
      "Epoch 31/50\n",
      "45/45 [==============================] - 2s 39ms/step - loss: 6.6110e-06 - accuracy: 1.0000 - val_loss: 2.8582 - val_accuracy: 0.6742\n",
      "Epoch 32/50\n",
      "45/45 [==============================] - 2s 42ms/step - loss: 6.3582e-06 - accuracy: 1.0000 - val_loss: 2.8674 - val_accuracy: 0.6742\n",
      "Epoch 33/50\n",
      "45/45 [==============================] - 2s 40ms/step - loss: 6.1183e-06 - accuracy: 1.0000 - val_loss: 2.8773 - val_accuracy: 0.6742\n",
      "Epoch 34/50\n",
      "45/45 [==============================] - 2s 40ms/step - loss: 5.8860e-06 - accuracy: 1.0000 - val_loss: 2.8860 - val_accuracy: 0.6742\n",
      "Epoch 35/50\n",
      "45/45 [==============================] - 2s 38ms/step - loss: 5.6617e-06 - accuracy: 1.0000 - val_loss: 2.8955 - val_accuracy: 0.6742\n",
      "Epoch 36/50\n",
      "45/45 [==============================] - 2s 41ms/step - loss: 5.4497e-06 - accuracy: 1.0000 - val_loss: 2.9017 - val_accuracy: 0.6742\n",
      "Epoch 37/50\n",
      "45/45 [==============================] - 2s 39ms/step - loss: 5.2485e-06 - accuracy: 1.0000 - val_loss: 2.9113 - val_accuracy: 0.6742\n",
      "Epoch 38/50\n",
      "45/45 [==============================] - 2s 41ms/step - loss: 5.0605e-06 - accuracy: 1.0000 - val_loss: 2.9194 - val_accuracy: 0.6742\n",
      "Epoch 39/50\n",
      "45/45 [==============================] - 2s 41ms/step - loss: 4.8697e-06 - accuracy: 1.0000 - val_loss: 2.9273 - val_accuracy: 0.6742\n",
      "Epoch 40/50\n",
      "45/45 [==============================] - 2s 50ms/step - loss: 4.7001e-06 - accuracy: 1.0000 - val_loss: 2.9359 - val_accuracy: 0.6742\n",
      "Epoch 41/50\n",
      "45/45 [==============================] - 2s 43ms/step - loss: 4.5284e-06 - accuracy: 1.0000 - val_loss: 2.9441 - val_accuracy: 0.6742\n",
      "Epoch 42/50\n",
      "45/45 [==============================] - 3s 58ms/step - loss: 4.3724e-06 - accuracy: 1.0000 - val_loss: 2.9506 - val_accuracy: 0.6742\n",
      "Epoch 43/50\n",
      "45/45 [==============================] - 4s 80ms/step - loss: 4.2175e-06 - accuracy: 1.0000 - val_loss: 2.9598 - val_accuracy: 0.6742\n",
      "Epoch 44/50\n",
      "45/45 [==============================] - 2s 40ms/step - loss: 4.0656e-06 - accuracy: 1.0000 - val_loss: 2.9681 - val_accuracy: 0.6742\n",
      "Epoch 45/50\n",
      "45/45 [==============================] - 2s 41ms/step - loss: 3.9253e-06 - accuracy: 1.0000 - val_loss: 2.9751 - val_accuracy: 0.6770\n",
      "Epoch 46/50\n",
      "45/45 [==============================] - 2s 44ms/step - loss: 3.7883e-06 - accuracy: 1.0000 - val_loss: 2.9826 - val_accuracy: 0.6770\n",
      "Epoch 47/50\n",
      "45/45 [==============================] - 2s 41ms/step - loss: 3.6581e-06 - accuracy: 1.0000 - val_loss: 2.9910 - val_accuracy: 0.6770\n",
      "Epoch 48/50\n",
      "45/45 [==============================] - 2s 39ms/step - loss: 3.5324e-06 - accuracy: 1.0000 - val_loss: 2.9982 - val_accuracy: 0.6770\n",
      "Epoch 49/50\n",
      "45/45 [==============================] - 2s 39ms/step - loss: 3.4134e-06 - accuracy: 1.0000 - val_loss: 3.0065 - val_accuracy: 0.6770\n",
      "Epoch 50/50\n",
      "45/45 [==============================] - 2s 42ms/step - loss: 3.2987e-06 - accuracy: 1.0000 - val_loss: 3.0144 - val_accuracy: 0.6770\n"
     ]
    }
   ],
   "source": [
    "# Entrenar el modelo\n",
    "history = model.fit(X_train, y_train, epochs=50, batch_size=32, validation_split=0.2, verbose=1)"
   ]
  },
  {
   "cell_type": "code",
   "execution_count": 37,
   "metadata": {},
   "outputs": [
    {
     "data": {
      "image/png": "[encoded data removed]",
      "text/plain": [
       "<Figure size 640x480 with 1 Axes>"
      ]
     },
     "metadata": {},
     "output_type": "display_data"
    },
    {
     "data": {
      "image/png": "[encoded data removed]",
      "text/plain": [
       "<Figure size 640x480 with 1 Axes>"
      ]
     },
     "metadata": {},
     "output_type": "display_data"
    }
   ],
   "source": [
    "import matplotlib.pyplot as plt \n",
    " \n",
    "# Pérdida \n",
    "plt.plot(history.history['loss'], label='Pérdida (entrenamiento)') \n",
    "plt.plot(history.history['val_loss'], label='Pérdida (validación)') \n",
    "plt.xlabel('Épocas') \n",
    "plt.ylabel('Pérdida') \n",
    "plt.legend() \n",
    "plt.show() \n",
    " \n",
    "# Precisión \n",
    "plt.plot(history.history['accuracy'], label='Precisión (entrenamiento)') \n",
    "plt.plot(history.history['val_accuracy'], label='Precisión (validación)') \n",
    "plt.xlabel('Épocas') \n",
    "plt.ylabel('Precisión') \n",
    "plt.legend() \n",
    "plt.show() "
   ]
  },
  {
   "cell_type": "code",
   "execution_count": null,
   "metadata": {},
   "outputs": [
    {
     "name": "stdout",
     "output_type": "stream",
     "text": [
      "1/1 [==============================] - 0s 34ms/step\n",
      "Porcentaje clase 0  es de 0.18%\n",
      "Porcentaje clase 1  es de 0.14%\n",
      "Porcentaje clase 2  es de 96.94%\n",
      "Porcentaje clase 3  es de 0.02%\n",
      "Porcentaje clase 4  es de 2.72%\n",
      "Predicción: 2\n"
     ]
    }
   ],
   "source": [
    "# Función para preprocesar un nuevo titular\n",
    "def preprocess_new_text(text):\n",
    "    headline = normalize_text(text)\n",
    "    sequence = tokenizer.texts_to_sequences([headline])\n",
    "    padded_sequence = pad_sequences(sequence, maxlen=max_length, padding='post')\n",
    "    return padded_sequence\n",
    "\n",
    "# Hacer una predicción\n",
    "new_text = \"New tech startup raises millions in funding\"\n",
    "preprocessed_headline = preprocess_new_text(new_text)\n",
    "prediction = model.predict(preprocessed_headline)\n",
    "# Convertir a porcentaje\n",
    "percentages = prediction * 100\n",
    "# Imprimir con dos decimales\n",
    "np.set_printoptions(suppress=True)\n",
    "array_percentages = percentages.flatten().tolist()\n",
    "classes = df['Label'].unique()\n",
    "\n",
    "for i, classe in enumerate(classes):\n",
    "    print(f\"Porcentaje clase {classe}  es de {round(array_percentages[i],2)}%\")\n",
    "\n",
    "predicted_class = np.argmax(prediction, axis=1)\n",
    "print(f'Predicción: {predicted_class[0]}')"
   ]
  },
  {
   "cell_type": "code",
   "execution_count": 75,
   "metadata": {},
   "outputs": [
    {
     "name": "stdout",
     "output_type": "stream",
     "text": [
      "14/14 [==============================] - 0s 2ms/step\n"
     ]
    }
   ],
   "source": [
    "# Obtener predicciones del modelo\n",
    "y_pred = model.predict(X_test)\n",
    "\n",
    "# Convertir de one-hot encoding a etiquetas categóricas\n",
    "y_pred_classes = np.argmax(y_pred, axis=1)"
   ]
  },
  {
   "cell_type": "code",
   "execution_count": 79,
   "metadata": {},
   "outputs": [
    {
     "name": "stdout",
     "output_type": "stream",
     "text": [
      "14/14 [==============================] - 0s 2ms/step - loss: 3.6719 - accuracy: 0.6112\n",
      "Precisión en el conjunto de prueba: 0.6112\n",
      "              precision    recall  f1-score   support\n",
      "\n",
      "     Class 0       0.70      0.47      0.56        92\n",
      "     Class 1       0.70      0.74      0.72        98\n",
      "     Class 2       0.37      0.60      0.45        77\n",
      "     Class 3       0.78      0.62      0.69        76\n",
      "     Class 4       0.68      0.62      0.65       102\n",
      "\n",
      "    accuracy                           0.61       445\n",
      "   macro avg       0.65      0.61      0.61       445\n",
      "weighted avg       0.65      0.61      0.62       445\n",
      "\n"
     ]
    }
   ],
   "source": [
    "# Evaluar el modelo\n",
    "test_loss, test_acc = model.evaluate(X_test, y_test)\n",
    "print(f'Precisión en el conjunto de prueba: {test_acc:.4f}')\n",
    "\n",
    "from sklearn.metrics import classification_report\n",
    "target_names = [\"Class {}\".format(i) for i in range(5)]\n",
    "print(classification_report(y_test, y_pred_classes, target_names=target_names))"
   ]
  },
  {
   "cell_type": "code",
   "execution_count": null,
   "metadata": {},
   "outputs": [
    {
     "name": "stdout",
     "output_type": "stream",
     "text": [
      "14/14 [==============================] - 0s 3ms/step\n"
     ]
    },
    {
     "data": {
      "image/png": "[encoded data removed]",
      "text/plain": [
       "<Figure size 1000x800 with 2 Axes>"
      ]
     },
     "metadata": {},
     "output_type": "display_data"
    }
   ],
   "source": [
    "import numpy as np\n",
    "import seaborn as sns\n",
    "import matplotlib.pyplot as plt\n",
    "from sklearn.metrics import confusion_matrix\n",
    "\n",
    "\n",
    "# Crear la matriz de confusión\n",
    "cm = confusion_matrix(y_test, y_pred_classes)\n",
    "\n",
    "# Visualizar la matriz de confusión\n",
    "plt.figure(figsize=(10, 8))\n",
    "sns.heatmap(cm, annot=True, fmt=\"d\", cmap=\"Blues\")\n",
    "plt.xlabel(\"Predicción\")\n",
    "plt.ylabel(\"Real\")\n",
    "plt.title(\"Matriz de Confusión\")\n",
    "plt.show()"
   ]
  }
 ],
 "metadata": {
  "kernelspec": {
   "display_name": "Python 3",
   "language": "python",
   "name": "python3"
  },
  "language_info": {
   "codemirror_mode": {
    "name": "ipython",
    "version": 3
   },
   "file_extension": ".py",
   "mimetype": "text/x-python",
   "name": "python",
   "nbconvert_exporter": "python",
   "pygments_lexer": "ipython3",
   "version": "3.8.10"
  }
 },
 "nbformat": 4,
 "nbformat_minor": 2
}
